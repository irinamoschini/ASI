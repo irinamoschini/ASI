{
  "nbformat": 4,
  "nbformat_minor": 0,
  "metadata": {
    "kernelspec": {
      "display_name": "Python 3",
      "language": "python",
      "name": "python3"
    },
    "language_info": {
      "codemirror_mode": {
        "name": "ipython",
        "version": 3
      },
      "file_extension": ".py",
      "mimetype": "text/x-python",
      "name": "python",
      "nbconvert_exporter": "python",
      "pygments_lexer": "ipython3",
      "version": "3.7.1"
    },
    "colab": {
      "name": "ASI_AssessedExercise.ipynb",
      "provenance": [],
      "collapsed_sections": [
        "KfZbbfSwVtT7",
        "n-DBIeLrVtU9",
        "h4X3cRg_ILJX",
        "tqOescarIMze",
        "x0Zdjs2IIPRT",
        "OK5gLbfLIQk-",
        "N1-sBLCgSINJ"
      ]
    },
    "accelerator": "GPU"
  },
  "cells": [
    {
      "cell_type": "markdown",
      "metadata": {
        "id": "MnYY9A9bVtTb",
        "colab_type": "text"
      },
      "source": [
        "# Advanced Statistical Inference -- Assessed exercise 2019/2020 \n",
        "\n",
        "**Name:** Irina Moschini"
      ]
    },
    {
      "cell_type": "code",
      "metadata": {
        "id": "a4Qv4B0gVtTf",
        "colab_type": "code",
        "colab": {}
      },
      "source": [
        "# Imports\n",
        "import numpy as np\n",
        "import pandas as pd\n",
        "import seaborn as sns\n",
        "import matplotlib.pyplot as plt\n",
        "import scipy.linalg\n",
        "import warnings\n",
        "import torch\n",
        "import torch.nn as nn\n",
        "import time\n",
        "import math\n",
        "\n",
        "from functools import total_ordering\n",
        "from sklearn.model_selection import train_test_split\n",
        "from sklearn.metrics import accuracy_score, roc_curve\n",
        "from sklearn.preprocessing import StandardScaler\n",
        "\n",
        "warnings.filterwarnings(\"ignore\")\n",
        "def set_seed(seed: int=0):\n",
        "    np.random.seed(seed)\n",
        "\n",
        "def args_as_tensors(*index):\n",
        "    \"\"\"A simple decorator to convert numpy arrays to torch tensors\"\"\"\n",
        "    def decorator(method):\n",
        "        def wrapper(*args, **kwargs):\n",
        "            converted_args = [torch.tensor(a).float() \n",
        "                              if i in index and type(a) is np.ndarray else a \n",
        "                              for i, a in enumerate(args)]\n",
        "            return method(*converted_args, **kwargs)\n",
        "        return wrapper  \n",
        "    return decorator"
      ],
      "execution_count": 0,
      "outputs": []
    },
    {
      "cell_type": "code",
      "metadata": {
        "id": "g_vJlhdMV_QW",
        "colab_type": "code",
        "colab": {
          "base_uri": "https://localhost:8080/",
          "height": 34
        },
        "outputId": "b01cbff8-daa2-4fde-8434-9d0cee307e66"
      },
      "source": [
        "from google.colab import drive\n",
        "drive.mount('/content/drive')"
      ],
      "execution_count": 156,
      "outputs": [
        {
          "output_type": "stream",
          "text": [
            "Drive already mounted at /content/drive; to attempt to forcibly remount, call drive.mount(\"/content/drive\", force_remount=True).\n"
          ],
          "name": "stdout"
        }
      ]
    },
    {
      "cell_type": "code",
      "metadata": {
        "id": "lWXVGVdrXrdw",
        "colab_type": "code",
        "colab": {}
      },
      "source": [
        "# Loading the datasets we saved in the prelimary phase\n",
        "X_train = np.load('/content/drive/My Drive/asi/X_train_stand.npy', allow_pickle=True)\n",
        "X_test = np.load('/content/drive/My Drive/asi/X_test_stand.npy', allow_pickle=True)\n",
        "y_train = np.load('/content/drive/My Drive/asi/y_train.npy', allow_pickle=True)\n",
        "y_test = np.load('/content/drive/My Drive/asi/y_test.npy', allow_pickle=True)"
      ],
      "execution_count": 0,
      "outputs": []
    },
    {
      "cell_type": "markdown",
      "metadata": {
        "id": "KfZbbfSwVtT7",
        "colab_type": "text"
      },
      "source": [
        "# Preliminary questions"
      ]
    },
    {
      "cell_type": "markdown",
      "metadata": {
        "id": "46ntM99DVtT8",
        "colab_type": "text"
      },
      "source": [
        "*a) (code) Download and import the Santander dataset. The labels of the test data are not publicly available, so create your own test set by randomly choosing half of the instances in the original training set.* [3]"
      ]
    },
    {
      "cell_type": "code",
      "metadata": {
        "id": "WfMdoEUaVtUC",
        "colab_type": "code",
        "colab": {
          "base_uri": "https://localhost:8080/",
          "height": 256
        },
        "outputId": "a35a0bbe-b3c7-4e13-ff4a-bbe55b35db5b"
      },
      "source": [
        "data_pd = pd.read_csv('/content/drive/My Drive/asi/train.csv', delimiter=',')\n",
        "data_pd.head()"
      ],
      "execution_count": 145,
      "outputs": [
        {
          "output_type": "execute_result",
          "data": {
            "text/html": [
              "<div>\n",
              "<style scoped>\n",
              "    .dataframe tbody tr th:only-of-type {\n",
              "        vertical-align: middle;\n",
              "    }\n",
              "\n",
              "    .dataframe tbody tr th {\n",
              "        vertical-align: top;\n",
              "    }\n",
              "\n",
              "    .dataframe thead th {\n",
              "        text-align: right;\n",
              "    }\n",
              "</style>\n",
              "<table border=\"1\" class=\"dataframe\">\n",
              "  <thead>\n",
              "    <tr style=\"text-align: right;\">\n",
              "      <th></th>\n",
              "      <th>ID_code</th>\n",
              "      <th>target</th>\n",
              "      <th>var_0</th>\n",
              "      <th>var_1</th>\n",
              "      <th>var_2</th>\n",
              "      <th>var_3</th>\n",
              "      <th>var_4</th>\n",
              "      <th>var_5</th>\n",
              "      <th>var_6</th>\n",
              "      <th>var_7</th>\n",
              "      <th>var_8</th>\n",
              "      <th>var_9</th>\n",
              "      <th>var_10</th>\n",
              "      <th>var_11</th>\n",
              "      <th>var_12</th>\n",
              "      <th>var_13</th>\n",
              "      <th>var_14</th>\n",
              "      <th>var_15</th>\n",
              "      <th>var_16</th>\n",
              "      <th>var_17</th>\n",
              "      <th>var_18</th>\n",
              "      <th>var_19</th>\n",
              "      <th>var_20</th>\n",
              "      <th>var_21</th>\n",
              "      <th>var_22</th>\n",
              "      <th>var_23</th>\n",
              "      <th>var_24</th>\n",
              "      <th>var_25</th>\n",
              "      <th>var_26</th>\n",
              "      <th>var_27</th>\n",
              "      <th>var_28</th>\n",
              "      <th>var_29</th>\n",
              "      <th>var_30</th>\n",
              "      <th>var_31</th>\n",
              "      <th>var_32</th>\n",
              "      <th>var_33</th>\n",
              "      <th>var_34</th>\n",
              "      <th>var_35</th>\n",
              "      <th>var_36</th>\n",
              "      <th>var_37</th>\n",
              "      <th>...</th>\n",
              "      <th>var_160</th>\n",
              "      <th>var_161</th>\n",
              "      <th>var_162</th>\n",
              "      <th>var_163</th>\n",
              "      <th>var_164</th>\n",
              "      <th>var_165</th>\n",
              "      <th>var_166</th>\n",
              "      <th>var_167</th>\n",
              "      <th>var_168</th>\n",
              "      <th>var_169</th>\n",
              "      <th>var_170</th>\n",
              "      <th>var_171</th>\n",
              "      <th>var_172</th>\n",
              "      <th>var_173</th>\n",
              "      <th>var_174</th>\n",
              "      <th>var_175</th>\n",
              "      <th>var_176</th>\n",
              "      <th>var_177</th>\n",
              "      <th>var_178</th>\n",
              "      <th>var_179</th>\n",
              "      <th>var_180</th>\n",
              "      <th>var_181</th>\n",
              "      <th>var_182</th>\n",
              "      <th>var_183</th>\n",
              "      <th>var_184</th>\n",
              "      <th>var_185</th>\n",
              "      <th>var_186</th>\n",
              "      <th>var_187</th>\n",
              "      <th>var_188</th>\n",
              "      <th>var_189</th>\n",
              "      <th>var_190</th>\n",
              "      <th>var_191</th>\n",
              "      <th>var_192</th>\n",
              "      <th>var_193</th>\n",
              "      <th>var_194</th>\n",
              "      <th>var_195</th>\n",
              "      <th>var_196</th>\n",
              "      <th>var_197</th>\n",
              "      <th>var_198</th>\n",
              "      <th>var_199</th>\n",
              "    </tr>\n",
              "  </thead>\n",
              "  <tbody>\n",
              "    <tr>\n",
              "      <th>0</th>\n",
              "      <td>train_0</td>\n",
              "      <td>0</td>\n",
              "      <td>8.9255</td>\n",
              "      <td>-6.7863</td>\n",
              "      <td>11.9081</td>\n",
              "      <td>5.0930</td>\n",
              "      <td>11.4607</td>\n",
              "      <td>-9.2834</td>\n",
              "      <td>5.1187</td>\n",
              "      <td>18.6266</td>\n",
              "      <td>-4.9200</td>\n",
              "      <td>5.7470</td>\n",
              "      <td>2.9252</td>\n",
              "      <td>3.1821</td>\n",
              "      <td>14.0137</td>\n",
              "      <td>0.5745</td>\n",
              "      <td>8.7989</td>\n",
              "      <td>14.5691</td>\n",
              "      <td>5.7487</td>\n",
              "      <td>-7.2393</td>\n",
              "      <td>4.2840</td>\n",
              "      <td>30.7133</td>\n",
              "      <td>10.5350</td>\n",
              "      <td>16.2191</td>\n",
              "      <td>2.5791</td>\n",
              "      <td>2.4716</td>\n",
              "      <td>14.3831</td>\n",
              "      <td>13.4325</td>\n",
              "      <td>-5.1488</td>\n",
              "      <td>-0.4073</td>\n",
              "      <td>4.9306</td>\n",
              "      <td>5.9965</td>\n",
              "      <td>-0.3085</td>\n",
              "      <td>12.9041</td>\n",
              "      <td>-3.8766</td>\n",
              "      <td>16.8911</td>\n",
              "      <td>11.1920</td>\n",
              "      <td>10.5785</td>\n",
              "      <td>0.6764</td>\n",
              "      <td>7.8871</td>\n",
              "      <td>...</td>\n",
              "      <td>15.4576</td>\n",
              "      <td>5.3133</td>\n",
              "      <td>3.6159</td>\n",
              "      <td>5.0384</td>\n",
              "      <td>6.6760</td>\n",
              "      <td>12.6644</td>\n",
              "      <td>2.7004</td>\n",
              "      <td>-0.6975</td>\n",
              "      <td>9.5981</td>\n",
              "      <td>5.4879</td>\n",
              "      <td>-4.7645</td>\n",
              "      <td>-8.4254</td>\n",
              "      <td>20.8773</td>\n",
              "      <td>3.1531</td>\n",
              "      <td>18.5618</td>\n",
              "      <td>7.7423</td>\n",
              "      <td>-10.1245</td>\n",
              "      <td>13.7241</td>\n",
              "      <td>-3.5189</td>\n",
              "      <td>1.7202</td>\n",
              "      <td>-8.4051</td>\n",
              "      <td>9.0164</td>\n",
              "      <td>3.0657</td>\n",
              "      <td>14.3691</td>\n",
              "      <td>25.8398</td>\n",
              "      <td>5.8764</td>\n",
              "      <td>11.8411</td>\n",
              "      <td>-19.7159</td>\n",
              "      <td>17.5743</td>\n",
              "      <td>0.5857</td>\n",
              "      <td>4.4354</td>\n",
              "      <td>3.9642</td>\n",
              "      <td>3.1364</td>\n",
              "      <td>1.6910</td>\n",
              "      <td>18.5227</td>\n",
              "      <td>-2.3978</td>\n",
              "      <td>7.8784</td>\n",
              "      <td>8.5635</td>\n",
              "      <td>12.7803</td>\n",
              "      <td>-1.0914</td>\n",
              "    </tr>\n",
              "    <tr>\n",
              "      <th>1</th>\n",
              "      <td>train_1</td>\n",
              "      <td>0</td>\n",
              "      <td>11.5006</td>\n",
              "      <td>-4.1473</td>\n",
              "      <td>13.8588</td>\n",
              "      <td>5.3890</td>\n",
              "      <td>12.3622</td>\n",
              "      <td>7.0433</td>\n",
              "      <td>5.6208</td>\n",
              "      <td>16.5338</td>\n",
              "      <td>3.1468</td>\n",
              "      <td>8.0851</td>\n",
              "      <td>-0.4032</td>\n",
              "      <td>8.0585</td>\n",
              "      <td>14.0239</td>\n",
              "      <td>8.4135</td>\n",
              "      <td>5.4345</td>\n",
              "      <td>13.7003</td>\n",
              "      <td>13.8275</td>\n",
              "      <td>-15.5849</td>\n",
              "      <td>7.8000</td>\n",
              "      <td>28.5708</td>\n",
              "      <td>3.4287</td>\n",
              "      <td>2.7407</td>\n",
              "      <td>8.5524</td>\n",
              "      <td>3.3716</td>\n",
              "      <td>6.9779</td>\n",
              "      <td>13.8910</td>\n",
              "      <td>-11.7684</td>\n",
              "      <td>-2.5586</td>\n",
              "      <td>5.0464</td>\n",
              "      <td>0.5481</td>\n",
              "      <td>-9.2987</td>\n",
              "      <td>7.8755</td>\n",
              "      <td>1.2859</td>\n",
              "      <td>19.3710</td>\n",
              "      <td>11.3702</td>\n",
              "      <td>0.7399</td>\n",
              "      <td>2.7995</td>\n",
              "      <td>5.8434</td>\n",
              "      <td>...</td>\n",
              "      <td>29.4846</td>\n",
              "      <td>5.8683</td>\n",
              "      <td>3.8208</td>\n",
              "      <td>15.8348</td>\n",
              "      <td>-5.0121</td>\n",
              "      <td>15.1345</td>\n",
              "      <td>3.2003</td>\n",
              "      <td>9.3192</td>\n",
              "      <td>3.8821</td>\n",
              "      <td>5.7999</td>\n",
              "      <td>5.5378</td>\n",
              "      <td>5.0988</td>\n",
              "      <td>22.0330</td>\n",
              "      <td>5.5134</td>\n",
              "      <td>30.2645</td>\n",
              "      <td>10.4968</td>\n",
              "      <td>-7.2352</td>\n",
              "      <td>16.5721</td>\n",
              "      <td>-7.3477</td>\n",
              "      <td>11.0752</td>\n",
              "      <td>-5.5937</td>\n",
              "      <td>9.4878</td>\n",
              "      <td>-14.9100</td>\n",
              "      <td>9.4245</td>\n",
              "      <td>22.5441</td>\n",
              "      <td>-4.8622</td>\n",
              "      <td>7.6543</td>\n",
              "      <td>-15.9319</td>\n",
              "      <td>13.3175</td>\n",
              "      <td>-0.3566</td>\n",
              "      <td>7.6421</td>\n",
              "      <td>7.7214</td>\n",
              "      <td>2.5837</td>\n",
              "      <td>10.9516</td>\n",
              "      <td>15.4305</td>\n",
              "      <td>2.0339</td>\n",
              "      <td>8.1267</td>\n",
              "      <td>8.7889</td>\n",
              "      <td>18.3560</td>\n",
              "      <td>1.9518</td>\n",
              "    </tr>\n",
              "    <tr>\n",
              "      <th>2</th>\n",
              "      <td>train_2</td>\n",
              "      <td>0</td>\n",
              "      <td>8.6093</td>\n",
              "      <td>-2.7457</td>\n",
              "      <td>12.0805</td>\n",
              "      <td>7.8928</td>\n",
              "      <td>10.5825</td>\n",
              "      <td>-9.0837</td>\n",
              "      <td>6.9427</td>\n",
              "      <td>14.6155</td>\n",
              "      <td>-4.9193</td>\n",
              "      <td>5.9525</td>\n",
              "      <td>-0.3249</td>\n",
              "      <td>-11.2648</td>\n",
              "      <td>14.1929</td>\n",
              "      <td>7.3124</td>\n",
              "      <td>7.5244</td>\n",
              "      <td>14.6472</td>\n",
              "      <td>7.6782</td>\n",
              "      <td>-1.7395</td>\n",
              "      <td>4.7011</td>\n",
              "      <td>20.4775</td>\n",
              "      <td>17.7559</td>\n",
              "      <td>18.1377</td>\n",
              "      <td>1.2145</td>\n",
              "      <td>3.5137</td>\n",
              "      <td>5.6777</td>\n",
              "      <td>13.2177</td>\n",
              "      <td>-7.9940</td>\n",
              "      <td>-2.9029</td>\n",
              "      <td>5.8463</td>\n",
              "      <td>6.1439</td>\n",
              "      <td>-11.1025</td>\n",
              "      <td>12.4858</td>\n",
              "      <td>-2.2871</td>\n",
              "      <td>19.0422</td>\n",
              "      <td>11.0449</td>\n",
              "      <td>4.1087</td>\n",
              "      <td>4.6974</td>\n",
              "      <td>6.9346</td>\n",
              "      <td>...</td>\n",
              "      <td>13.2070</td>\n",
              "      <td>5.8442</td>\n",
              "      <td>4.7086</td>\n",
              "      <td>5.7141</td>\n",
              "      <td>-1.0410</td>\n",
              "      <td>20.5092</td>\n",
              "      <td>3.2790</td>\n",
              "      <td>-5.5952</td>\n",
              "      <td>7.3176</td>\n",
              "      <td>5.7690</td>\n",
              "      <td>-7.0927</td>\n",
              "      <td>-3.9116</td>\n",
              "      <td>7.2569</td>\n",
              "      <td>-5.8234</td>\n",
              "      <td>25.6820</td>\n",
              "      <td>10.9202</td>\n",
              "      <td>-0.3104</td>\n",
              "      <td>8.8438</td>\n",
              "      <td>-9.7009</td>\n",
              "      <td>2.4013</td>\n",
              "      <td>-4.2935</td>\n",
              "      <td>9.3908</td>\n",
              "      <td>-13.2648</td>\n",
              "      <td>3.1545</td>\n",
              "      <td>23.0866</td>\n",
              "      <td>-5.3000</td>\n",
              "      <td>5.3745</td>\n",
              "      <td>-6.2660</td>\n",
              "      <td>10.1934</td>\n",
              "      <td>-0.8417</td>\n",
              "      <td>2.9057</td>\n",
              "      <td>9.7905</td>\n",
              "      <td>1.6704</td>\n",
              "      <td>1.6858</td>\n",
              "      <td>21.6042</td>\n",
              "      <td>3.1417</td>\n",
              "      <td>-6.5213</td>\n",
              "      <td>8.2675</td>\n",
              "      <td>14.7222</td>\n",
              "      <td>0.3965</td>\n",
              "    </tr>\n",
              "    <tr>\n",
              "      <th>3</th>\n",
              "      <td>train_3</td>\n",
              "      <td>0</td>\n",
              "      <td>11.0604</td>\n",
              "      <td>-2.1518</td>\n",
              "      <td>8.9522</td>\n",
              "      <td>7.1957</td>\n",
              "      <td>12.5846</td>\n",
              "      <td>-1.8361</td>\n",
              "      <td>5.8428</td>\n",
              "      <td>14.9250</td>\n",
              "      <td>-5.8609</td>\n",
              "      <td>8.2450</td>\n",
              "      <td>2.3061</td>\n",
              "      <td>2.8102</td>\n",
              "      <td>13.8463</td>\n",
              "      <td>11.9704</td>\n",
              "      <td>6.4569</td>\n",
              "      <td>14.8372</td>\n",
              "      <td>10.7430</td>\n",
              "      <td>-0.4299</td>\n",
              "      <td>15.9426</td>\n",
              "      <td>13.7257</td>\n",
              "      <td>20.3010</td>\n",
              "      <td>12.5579</td>\n",
              "      <td>6.8202</td>\n",
              "      <td>2.7229</td>\n",
              "      <td>12.1354</td>\n",
              "      <td>13.7367</td>\n",
              "      <td>0.8135</td>\n",
              "      <td>-0.9059</td>\n",
              "      <td>5.9070</td>\n",
              "      <td>2.8407</td>\n",
              "      <td>-15.2398</td>\n",
              "      <td>10.4407</td>\n",
              "      <td>-2.5731</td>\n",
              "      <td>6.1796</td>\n",
              "      <td>10.6093</td>\n",
              "      <td>-5.9158</td>\n",
              "      <td>8.1723</td>\n",
              "      <td>2.8521</td>\n",
              "      <td>...</td>\n",
              "      <td>31.8833</td>\n",
              "      <td>5.9684</td>\n",
              "      <td>7.2084</td>\n",
              "      <td>3.8899</td>\n",
              "      <td>-11.0882</td>\n",
              "      <td>17.2502</td>\n",
              "      <td>2.5881</td>\n",
              "      <td>-2.7018</td>\n",
              "      <td>0.5641</td>\n",
              "      <td>5.3430</td>\n",
              "      <td>-7.1541</td>\n",
              "      <td>-6.1920</td>\n",
              "      <td>18.2366</td>\n",
              "      <td>11.7134</td>\n",
              "      <td>14.7483</td>\n",
              "      <td>8.1013</td>\n",
              "      <td>11.8771</td>\n",
              "      <td>13.9552</td>\n",
              "      <td>-10.4701</td>\n",
              "      <td>5.6961</td>\n",
              "      <td>-3.7546</td>\n",
              "      <td>8.4117</td>\n",
              "      <td>1.8986</td>\n",
              "      <td>7.2601</td>\n",
              "      <td>-0.4639</td>\n",
              "      <td>-0.0498</td>\n",
              "      <td>7.9336</td>\n",
              "      <td>-12.8279</td>\n",
              "      <td>12.4124</td>\n",
              "      <td>1.8489</td>\n",
              "      <td>4.4666</td>\n",
              "      <td>4.7433</td>\n",
              "      <td>0.7178</td>\n",
              "      <td>1.4214</td>\n",
              "      <td>23.0347</td>\n",
              "      <td>-1.2706</td>\n",
              "      <td>-2.9275</td>\n",
              "      <td>10.2922</td>\n",
              "      <td>17.9697</td>\n",
              "      <td>-8.9996</td>\n",
              "    </tr>\n",
              "    <tr>\n",
              "      <th>4</th>\n",
              "      <td>train_4</td>\n",
              "      <td>0</td>\n",
              "      <td>9.8369</td>\n",
              "      <td>-1.4834</td>\n",
              "      <td>12.8746</td>\n",
              "      <td>6.6375</td>\n",
              "      <td>12.2772</td>\n",
              "      <td>2.4486</td>\n",
              "      <td>5.9405</td>\n",
              "      <td>19.2514</td>\n",
              "      <td>6.2654</td>\n",
              "      <td>7.6784</td>\n",
              "      <td>-9.4458</td>\n",
              "      <td>-12.1419</td>\n",
              "      <td>13.8481</td>\n",
              "      <td>7.8895</td>\n",
              "      <td>7.7894</td>\n",
              "      <td>15.0553</td>\n",
              "      <td>8.4871</td>\n",
              "      <td>-3.0680</td>\n",
              "      <td>6.5263</td>\n",
              "      <td>11.3152</td>\n",
              "      <td>21.4246</td>\n",
              "      <td>18.9608</td>\n",
              "      <td>10.1102</td>\n",
              "      <td>2.7142</td>\n",
              "      <td>14.2080</td>\n",
              "      <td>13.5433</td>\n",
              "      <td>3.1736</td>\n",
              "      <td>-3.3423</td>\n",
              "      <td>5.9015</td>\n",
              "      <td>7.9352</td>\n",
              "      <td>-3.1582</td>\n",
              "      <td>9.4668</td>\n",
              "      <td>-0.0083</td>\n",
              "      <td>19.3239</td>\n",
              "      <td>12.4057</td>\n",
              "      <td>0.6329</td>\n",
              "      <td>2.7922</td>\n",
              "      <td>5.8184</td>\n",
              "      <td>...</td>\n",
              "      <td>33.5107</td>\n",
              "      <td>5.6953</td>\n",
              "      <td>5.4663</td>\n",
              "      <td>18.2201</td>\n",
              "      <td>6.5769</td>\n",
              "      <td>21.2607</td>\n",
              "      <td>3.2304</td>\n",
              "      <td>-1.7759</td>\n",
              "      <td>3.1283</td>\n",
              "      <td>5.5518</td>\n",
              "      <td>1.4493</td>\n",
              "      <td>-2.6627</td>\n",
              "      <td>19.8056</td>\n",
              "      <td>2.3705</td>\n",
              "      <td>18.4685</td>\n",
              "      <td>16.3309</td>\n",
              "      <td>-3.3456</td>\n",
              "      <td>13.5261</td>\n",
              "      <td>1.7189</td>\n",
              "      <td>5.1743</td>\n",
              "      <td>-7.6938</td>\n",
              "      <td>9.7685</td>\n",
              "      <td>4.8910</td>\n",
              "      <td>12.2198</td>\n",
              "      <td>11.8503</td>\n",
              "      <td>-7.8931</td>\n",
              "      <td>6.4209</td>\n",
              "      <td>5.9270</td>\n",
              "      <td>16.0201</td>\n",
              "      <td>-0.2829</td>\n",
              "      <td>-1.4905</td>\n",
              "      <td>9.5214</td>\n",
              "      <td>-0.1508</td>\n",
              "      <td>9.1942</td>\n",
              "      <td>13.2876</td>\n",
              "      <td>-1.5121</td>\n",
              "      <td>3.9267</td>\n",
              "      <td>9.5031</td>\n",
              "      <td>17.9974</td>\n",
              "      <td>-8.8104</td>\n",
              "    </tr>\n",
              "  </tbody>\n",
              "</table>\n",
              "<p>5 rows × 202 columns</p>\n",
              "</div>"
            ],
            "text/plain": [
              "   ID_code  target    var_0   var_1  ...  var_196  var_197  var_198  var_199\n",
              "0  train_0       0   8.9255 -6.7863  ...   7.8784   8.5635  12.7803  -1.0914\n",
              "1  train_1       0  11.5006 -4.1473  ...   8.1267   8.7889  18.3560   1.9518\n",
              "2  train_2       0   8.6093 -2.7457  ...  -6.5213   8.2675  14.7222   0.3965\n",
              "3  train_3       0  11.0604 -2.1518  ...  -2.9275  10.2922  17.9697  -8.9996\n",
              "4  train_4       0   9.8369 -1.4834  ...   3.9267   9.5031  17.9974  -8.8104\n",
              "\n",
              "[5 rows x 202 columns]"
            ]
          },
          "metadata": {
            "tags": []
          },
          "execution_count": 145
        }
      ]
    },
    {
      "cell_type": "code",
      "metadata": {
        "id": "UNg2ei1rVtUO",
        "colab_type": "code",
        "colab": {
          "base_uri": "https://localhost:8080/",
          "height": 34
        },
        "outputId": "f00a4588-bc91-4076-9d96-72b0f0595e6e"
      },
      "source": [
        "print('The dataset has', np.shape(data_pd)[0], 'rows and', np.shape(data_pd)[1] - 1, 'features')"
      ],
      "execution_count": 5,
      "outputs": [
        {
          "output_type": "stream",
          "text": [
            "The dataset has 200000 rows and 201 features\n"
          ],
          "name": "stdout"
        }
      ]
    },
    {
      "cell_type": "code",
      "metadata": {
        "id": "DGub9fo5VtUX",
        "colab_type": "code",
        "colab": {}
      },
      "source": [
        "features_pd = data_pd.drop(['target', 'ID_code'],axis=1)\n",
        "labels_pd = data_pd['target']\n",
        "\n",
        "# Transform the dataframes into numpy array\n",
        "features = features_pd.values\n",
        "labels = labels_pd.values"
      ],
      "execution_count": 0,
      "outputs": []
    },
    {
      "cell_type": "code",
      "metadata": {
        "id": "ZB4lQcxUVtUi",
        "colab_type": "code",
        "colab": {}
      },
      "source": [
        "# Shuffle and split the dataset into a training set (50%) and a testing set (50%)\n",
        "X_train, X_test, y_train, y_test = train_test_split(features, labels, test_size = 0.5)"
      ],
      "execution_count": 0,
      "outputs": []
    },
    {
      "cell_type": "code",
      "metadata": {
        "id": "ECqsM3-IVtUq",
        "colab_type": "code",
        "colab": {}
      },
      "source": [
        "# Saving those datasets\n",
        "np.save('X_train.npy', X_train)\n",
        "np.save('X_test.npy', X_test)\n",
        "np.save('y_train.npy', y_train)\n",
        "np.save('y_test.npy', y_test)"
      ],
      "execution_count": 0,
      "outputs": []
    },
    {
      "cell_type": "markdown",
      "metadata": {
        "id": "Tg0FSClgVtUz",
        "colab_type": "text"
      },
      "source": [
        "*b) (text) Comment on the distribution of class labels and the dimensionality of the input and how these may affect the analysis.* [7]"
      ]
    },
    {
      "cell_type": "code",
      "metadata": {
        "id": "CVT5Voe8VtU1",
        "colab_type": "code",
        "colab": {
          "base_uri": "https://localhost:8080/",
          "height": 265
        },
        "outputId": "ccd38cdd-80c5-4812-d425-890e3eb7b682"
      },
      "source": [
        "y_train_pd = pd.DataFrame(y_train, columns=['target'])\n",
        "n_label_0 = y_train_pd['target'].value_counts()[0]\n",
        "n_label_1 = y_train_pd['target'].value_counts()[1]\n",
        "\n",
        "y = [n_label_0, n_label_1]\n",
        "x = [0, 1]\n",
        "\n",
        "plt.bar(x,y, color = 'lavender', edgecolor = 'black')\n",
        "x_labels = ['label 0', 'label 1']\n",
        "plt.xticks(x, x_labels)\n",
        "\n",
        "labels = [y[0], y[1]]\n",
        "# Text on the top of each barplot\n",
        "for i in range(len(x)):\n",
        "    plt.text(x = x[i]-0.1, y = y[i]+5*10**2, s = labels[i], size = 10)\n",
        "\n",
        "#Titles and labels    \n",
        "plt.ylabel('Number of samples belonging to each label')\n",
        "plt.show()"
      ],
      "execution_count": 11,
      "outputs": [
        {
          "output_type": "display_data",
          "data": {
            "image/png": "[encoded data removed]",
            "text/plain": [
              "<Figure size 432x288 with 1 Axes>"
            ]
          },
          "metadata": {
            "tags": [],
            "needs_background": "light"
          }
        }
      ]
    },
    {
      "cell_type": "markdown",
      "metadata": {
        "id": "ZBodQkGzVtU7",
        "colab_type": "text"
      },
      "source": [
        "This histogram shows the repartition of samples of the training set among the 2 labels. We can see thanks that the **distribution is very unbalanced**: there are 89 921 samples belonging to class 0 compared to 10 079 belonging to class 1. Thus, it could be harder to 'learn' the characteristics of the class 1 than the class 0, and class 1 can be overpredicting on unseen data. \n",
        "\n",
        "Concerning the dimensionality of the input, **there are a lot of features** (200 in total). We have to be careful that the model don't overfit."
      ]
    },
    {
      "cell_type": "markdown",
      "metadata": {
        "id": "n-DBIeLrVtU9",
        "colab_type": "text"
      },
      "source": [
        "# 1. Bayesian Linear Regression"
      ]
    },
    {
      "cell_type": "markdown",
      "metadata": {
        "id": "h4X3cRg_ILJX",
        "colab_type": "text"
      },
      "source": [
        "## Question a"
      ]
    },
    {
      "cell_type": "markdown",
      "metadata": {
        "id": "9NkOG6v1VtU-",
        "colab_type": "text"
      },
      "source": [
        "*a) (code) Implement Bayesian linear regression (you should already have an\n",
        "implementation from the lab sessions)* [10]"
      ]
    },
    {
      "cell_type": "markdown",
      "metadata": {
        "id": "WwXqdqdFVtU_",
        "colab_type": "text"
      },
      "source": [
        "We know that the posterior follows this form:\n",
        "\n",
        "\\begin{equation}\n",
        "p(\\mathbf{w}|\\mathbf{X}, \\mathbf{y}, \\sigma_\\mathrm{n}) = \\mathcal{N}\\left(\\frac{1}{\\sigma^2_\\mathrm{n}}\\mathbf{\\Sigma}\\mathbf{X}^\\top\\mathbf{y}, \\mathbf{\\Sigma} \\right)\n",
        "\\end{equation}\n",
        "\n",
        "where $\\mathbf{\\Sigma}^{-1} = \\left(\\frac{1}{\\sigma^2_\\mathrm{n}}\\mathbf{X}^\\top\\mathbf{X} + \\mathbf{S}^{-1}  \\right)$."
      ]
    },
    {
      "cell_type": "markdown",
      "metadata": {
        "id": "NWdQuoGuVtVB",
        "colab_type": "text"
      },
      "source": [
        "Compared to what we did in the lab session 1, let's define the **design matrix** $\\mathbf{X}$ without transforming the input to have a multipolynomial input. Thus, the resulting design matrix has the form:\n",
        "\n",
        "$$\n",
        "\\mathbf{X} = \\left[ {\\begin{array}{ccccc}\n",
        "   x_{1_1} & \\dots & x_{1_{200}}\\\\\n",
        "   x_{2_1} & \\dots & x_{2_{200}}\\\\\n",
        "   \\vdots & &   \\vdots \\\\\n",
        "   x_{N_1} & \\dots & x_{N_{200}}\\\\\n",
        "  \\end{array} } \\right]\n",
        "$$\n",
        "\n",
        "In brief, $\\mathbf{X} = \\mathbf{X_{train}}$."
      ]
    },
    {
      "cell_type": "code",
      "metadata": {
        "id": "EsqTk0RtVtVD",
        "colab_type": "code",
        "colab": {}
      },
      "source": [
        "def compute_posterior(X, y, sigma2priorweights, sigma2noise):\n",
        "    \n",
        "    Sigma_inverse = (1/sigma2noise) * np.dot(X.T, X) + (1/sigma2priorweights) * np.eye(len(X[0]))\n",
        "    posterior_mu =     1/sigma2noise * np.dot(np.dot(scipy.linalg.inv(Sigma_inverse), X.T), y)\n",
        "    posterior_Sigma =  scipy.linalg.inv(Sigma_inverse)\n",
        "    \n",
        "    return posterior_mu, posterior_Sigma"
      ],
      "execution_count": 0,
      "outputs": []
    },
    {
      "cell_type": "markdown",
      "metadata": {
        "id": "tqOescarIMze",
        "colab_type": "text"
      },
      "source": [
        "## Question b"
      ]
    },
    {
      "cell_type": "markdown",
      "metadata": {
        "id": "hTTDqgAWVtVL",
        "colab_type": "text"
      },
      "source": [
        "*b) (text) Describe any pre-processing that you suggest for this data* [5]"
      ]
    },
    {
      "cell_type": "code",
      "metadata": {
        "id": "o8fPMaViVtVM",
        "colab_type": "code",
        "colab": {
          "base_uri": "https://localhost:8080/",
          "height": 34
        },
        "outputId": "bdaefbdc-899f-4654-e225-3b306bb0a887"
      },
      "source": [
        "nan_column = 0\n",
        "for i in range (len(data_pd.columns)):\n",
        "    column_name = data_pd.columns[i]\n",
        "    n_nan = sum((data_pd[column_name].astype(str) == 'nan')==True)\n",
        "    if n_nan > 0:\n",
        "        nan_column += 1   \n",
        "        print('Number or nan values in', column_name, ':', sum((data_pd[column_name].astype(str) == 'nan')==True))\n",
        "if nan_column == 0:\n",
        "    print('No nan values in the dataset')"
      ],
      "execution_count": 144,
      "outputs": [
        {
          "output_type": "stream",
          "text": [
            "No nan values in the dataset\n"
          ],
          "name": "stdout"
        }
      ]
    },
    {
      "cell_type": "markdown",
      "metadata": {
        "id": "MYBcd7vGVtVT",
        "colab_type": "text"
      },
      "source": [
        "* We checked that there are **no 'nan' values**, the dataset seems well filled. \n",
        "\n",
        "* We can work on identifying strange rows, by **removing outliers** for example. We can also **combine rows** that bring the same information.\n",
        "\n",
        "* We can **normalize the data** so that each feature brings the same quantity of information. \n",
        "\n",
        "* As we have a lot of features, we can finally think that there are redundancy of information. Thus, applying a **Principal Component Analysis** (PCA) can be useful. "
      ]
    },
    {
      "cell_type": "code",
      "metadata": {
        "id": "WCuSLoTJ_g2x",
        "colab_type": "code",
        "colab": {}
      },
      "source": [
        "# Standardization of the features\n",
        "sc = StandardScaler()\n",
        "X_train[:] = sc.fit_transform(X_train[:]) \n",
        "X_test[:] = sc.fit_transform(X_test[:]) "
      ],
      "execution_count": 0,
      "outputs": []
    },
    {
      "cell_type": "code",
      "metadata": {
        "id": "bz6HzpeQAP31",
        "colab_type": "code",
        "colab": {}
      },
      "source": [
        "# Saving those datasets\n",
        "np.save('X_train_stand.npy', X_train)\n",
        "np.save('X_test_stand.npy', X_test)"
      ],
      "execution_count": 0,
      "outputs": []
    },
    {
      "cell_type": "markdown",
      "metadata": {
        "id": "x0Zdjs2IIPRT",
        "colab_type": "text"
      },
      "source": [
        "## Question c"
      ]
    },
    {
      "cell_type": "markdown",
      "metadata": {
        "id": "Yq3rbuo9VtVU",
        "colab_type": "text"
      },
      "source": [
        "*c) (code) Treat class labels as continuous and apply regression to the training data. Also, calculate and report the posterior variance of the weights.* [10]"
      ]
    },
    {
      "cell_type": "code",
      "metadata": {
        "id": "fZec1SQ1VtVX",
        "colab_type": "code",
        "colab": {}
      },
      "source": [
        "sigma2priorweights = 1\n",
        "sigma2noise = 1\n",
        "w_posterior_mu, w_posterior_Sigma = compute_posterior(X_train, y_train, sigma2priorweights, sigma2noise)"
      ],
      "execution_count": 0,
      "outputs": []
    },
    {
      "cell_type": "markdown",
      "metadata": {
        "id": "QV0PQ54bVtVe",
        "colab_type": "text"
      },
      "source": [
        "We know that the posterior covariance of the weights is equal to $\\mathbf{\\Sigma}$, so let's compute the diagonal of this matrix to get the variance."
      ]
    },
    {
      "cell_type": "code",
      "metadata": {
        "id": "sK_rxIRDVtVf",
        "colab_type": "code",
        "colab": {
          "base_uri": "https://localhost:8080/",
          "height": 34
        },
        "outputId": "23a7c70c-37ec-46d0-fe19-ab15c833e3f3"
      },
      "source": [
        "var_weights = w_posterior_Sigma.diagonal()\n",
        "name_weights = ['feature'+str(i) for i in range(1,len(var_weights)+1)]\n",
        "print('Shape of the variance of the weights is', np.shape(var_weights))"
      ],
      "execution_count": 91,
      "outputs": [
        {
          "output_type": "stream",
          "text": [
            "Shape of the variance of the weights is (200,)\n"
          ],
          "name": "stdout"
        }
      ]
    },
    {
      "cell_type": "code",
      "metadata": {
        "id": "FAsexPW4qoWb",
        "colab_type": "code",
        "colab": {
          "base_uri": "https://localhost:8080/",
          "height": 466
        },
        "outputId": "9093b212-f6aa-48fd-824e-d719cbb31ba3"
      },
      "source": [
        "results_pd = pd.DataFrame(var_weights, index = name_weights, columns = ['var_weights']).sort_values(by=['var_weights'],ascending=False).head(50)\n",
        "\n",
        "plt.figure(figsize=(30,10))\n",
        "g = sns.barplot(x=results_pd.index, y=results_pd.var_weights,palette = 'viridis')\n",
        "g.set_xticklabels(results_pd.index, rotation=90)\n",
        "plt.title('Value of the first 50 biggest variance', fontsize=20)"
      ],
      "execution_count": 92,
      "outputs": [
        {
          "output_type": "execute_result",
          "data": {
            "text/plain": [
              "Text(0.5, 1.0, 'Value of the first 50 biggest variance')"
            ]
          },
          "metadata": {
            "tags": []
          },
          "execution_count": 92
        },
        {
          "output_type": "display_data",
          "data": {
            "image/png": "[encoded data removed]",
            "text/plain": [
              "<Figure size 2160x720 with 1 Axes>"
            ]
          },
          "metadata": {
            "tags": [],
            "needs_background": "light"
          }
        }
      ]
    },
    {
      "cell_type": "markdown",
      "metadata": {
        "id": "OK5gLbfLIQk-",
        "colab_type": "text"
      },
      "source": [
        "## Question d"
      ]
    },
    {
      "cell_type": "markdown",
      "metadata": {
        "id": "Bah_vRg3VtVk",
        "colab_type": "text"
      },
      "source": [
        "*d) (text) Suggest a way to discretize predictions and display the confusion matrix on the test data and report accuracy.* [5]"
      ]
    },
    {
      "cell_type": "markdown",
      "metadata": {
        "id": "dTO6eiL7VtVm",
        "colab_type": "text"
      },
      "source": [
        "The output of a prediction is going to be a number near 0 or 1: the more the value is closed to one of these numbers, the more it is sure about its answer (it is actually a kind of probability that the class belongs to 1, but can have values smaller than 0 and bigger than 1). Thus, we can **set a threshold** (0.5 seems to be the best threshold to set). If the value is smaller than this threshold (that can be chosen smaller than 0.5 in our case, for more restriction), the predicted label will be 0. Otherwise, it will be 1. With this method, the output is discretized and the threshold can be set depending on the dataset.\n",
        "\n",
        "Let's first implement the code to do a prediction on unseen data."
      ]
    },
    {
      "cell_type": "code",
      "metadata": {
        "id": "dKl0BBcVvcpm",
        "colab_type": "code",
        "colab": {}
      },
      "source": [
        "def compute_predictive(Xnew, w_posterior_mu, w_posterior_Sigma, sigma2noise):\n",
        "    y_posterior_mu = np.reshape(np.dot(Xnew, w_posterior_mu),(-1, 1))\n",
        "    y_posterior_sigma2 = np.reshape(np.diag(sigma2noise + np.dot(np.dot(Xnew, w_posterior_Sigma), np.transpose(Xnew))), (-1,1))\n",
        "    return y_posterior_mu, y_posterior_sigma2"
      ],
      "execution_count": 0,
      "outputs": []
    },
    {
      "cell_type": "markdown",
      "metadata": {
        "id": "pIO-OSpr-mI5",
        "colab_type": "text"
      },
      "source": [
        "Let's now compute what the predictions would be on the testing set, by setting a threshold at 0.5."
      ]
    },
    {
      "cell_type": "code",
      "metadata": {
        "id": "4UJa0_B3upWl",
        "colab_type": "code",
        "colab": {}
      },
      "source": [
        "y_posterior_mu_1, _ = compute_predictive(X_test[:25000], w_posterior_mu, w_posterior_Sigma, sigma2noise)\n",
        "y_posterior_mu_2, _ = compute_predictive(X_test[25000:50000], w_posterior_mu, w_posterior_Sigma, sigma2noise)\n",
        "y_posterior_mu_3, _ = compute_predictive(X_test[50000:75000], w_posterior_mu, w_posterior_Sigma, sigma2noise)\n",
        "y_posterior_mu_4, _ = compute_predictive(X_test[75000:], w_posterior_mu, w_posterior_Sigma, sigma2noise)\n",
        "y_posterior_mu = np.concatenate((y_posterior_mu_1, y_posterior_mu_2, y_posterior_mu_3, y_posterior_mu_4))"
      ],
      "execution_count": 0,
      "outputs": []
    },
    {
      "cell_type": "code",
      "metadata": {
        "id": "56fK3mgW41t8",
        "colab_type": "code",
        "colab": {
          "base_uri": "https://localhost:8080/",
          "height": 52
        },
        "outputId": "6eef4a41-5a86-4e6f-8120-2ad6d5a223a3"
      },
      "source": [
        "print('Minimum value among the output', min(y_posterior_mu))\n",
        "print('Maximum value among the output', max(y_posterior_mu))"
      ],
      "execution_count": 97,
      "outputs": [
        {
          "output_type": "stream",
          "text": [
            "Minimum value among the output [-0.49919931]\n",
            "Maximum value among the output [0.77596898]\n"
          ],
          "name": "stdout"
        }
      ]
    },
    {
      "cell_type": "markdown",
      "metadata": {
        "id": "hkLmHEMG49Dd",
        "colab_type": "text"
      },
      "source": [
        "As mentionned before, we can see that the minimum value is lower than 0 (-0.50), and shows how sure the algorithm is to predict the associated sample as belonging to the class 0. \n",
        "\n",
        "However, we can also see that the maximum value is 0.78 (not even 1). It shows that the value 1 is very hard to predict as no sample has a predicted value near 1. "
      ]
    },
    {
      "cell_type": "markdown",
      "metadata": {
        "id": "Ib3lNd6v_VzH",
        "colab_type": "text"
      },
      "source": [
        "Let's define a function that, given a threshold, allows to discretize the output. "
      ]
    },
    {
      "cell_type": "code",
      "metadata": {
        "id": "ESfQHWyi0pGY",
        "colab_type": "code",
        "colab": {}
      },
      "source": [
        "def discrete (threshold, y_posterior_mu):\n",
        "  y_pred = []\n",
        "  for i in range(len(y_posterior_mu)):\n",
        "    proba = y_posterior_mu[i]\n",
        "    if proba > threshold:\n",
        "      y_pred.append(1)\n",
        "    else: \n",
        "      y_pred.append(0)\n",
        "  return y_pred"
      ],
      "execution_count": 0,
      "outputs": []
    },
    {
      "cell_type": "code",
      "metadata": {
        "id": "xDsDnaXy1VxE",
        "colab_type": "code",
        "colab": {
          "base_uri": "https://localhost:8080/",
          "height": 1000
        },
        "outputId": "c0d952f0-1cc2-4368-ca9b-812d98ffc2af"
      },
      "source": [
        "y_pred_reg00 = discrete (0.0, y_posterior_mu)\n",
        "y_pred_reg01 = discrete (0.1, y_posterior_mu)\n",
        "y_pred_reg02 = discrete (0.2, y_posterior_mu)\n",
        "y_pred_reg05 = discrete (0.5, y_posterior_mu)\n",
        "\n",
        "columns00 = ['True label','Predicted label']\n",
        "columns01 = ['True label','Predicted label']\n",
        "columns05 = ['True label','Predicted label']\n",
        "columns02 = ['True label','Predicted label']\n",
        "\n",
        "results_pd00 = pd.concat([pd.DataFrame(y_test),pd.DataFrame(y_pred_reg00)],axis=1)\n",
        "results_pd00.columns = columns00\n",
        "results_pd01 = pd.concat([pd.DataFrame(y_test),pd.DataFrame(y_pred_reg01)],axis=1)\n",
        "results_pd01.columns = columns01\n",
        "results_pd02 = pd.concat([pd.DataFrame(y_test),pd.DataFrame(y_pred_reg02)],axis=1)\n",
        "results_pd02.columns = columns02\n",
        "results_pd05 = pd.concat([pd.DataFrame(y_test),pd.DataFrame(y_pred_reg05)],axis=1)\n",
        "results_pd05.columns = columns05\n",
        "\n",
        "confusion_matrix00 = pd.crosstab(results_pd00['True label'], results_pd00['Predicted label'], rownames=['True label'], colnames=['Predicted label with threshold = 0.0']).astype('float') / confusion_matrix00.sum(axis=1)[:, np.newaxis]\n",
        "sns.heatmap(confusion_matrix00, annot=True, fmt='.2f')\n",
        "plt.show()\n",
        "    \n",
        "confusion_matrix01 = pd.crosstab(results_pd01['True label'], results_pd01['Predicted label'], rownames=['True label'], colnames=['Predicted label with threshold = 0.1']).astype('float') / confusion_matrix01.sum(axis=1)[:, np.newaxis]\n",
        "sns.heatmap(confusion_matrix01, annot=True, fmt='.2f')\n",
        "plt.show()\n",
        "\n",
        "confusion_matrix02 = pd.crosstab(results_pd02['True label'], results_pd02['Predicted label'], rownames=['True label'], colnames=['Predicted label with threshold = 0.2']).astype('float') / confusion_matrix02.sum(axis=1)[:, np.newaxis]\n",
        "sns.heatmap(confusion_matrix02, annot=True, fmt='.2f')\n",
        "plt.show()\n",
        "\n",
        "confusion_matrix05 = pd.crosstab(results_pd05['True label'], results_pd05['Predicted label'], rownames=['True label'], colnames=['Predicted label with threshold = 0.5']).astype('float') / confusion_matrix05.sum(axis=1)[:, np.newaxis]\n",
        "sns.heatmap(confusion_matrix05, annot=True, fmt='.2f')\n",
        "plt.show()"
      ],
      "execution_count": 161,
      "outputs": [
        {
          "output_type": "display_data",
          "data": {
            "image/png": "[encoded data removed]",
            "text/plain": [
              "<Figure size 432x288 with 2 Axes>"
            ]
          },
          "metadata": {
            "tags": [],
            "needs_background": "light"
          }
        },
        {
          "output_type": "display_data",
          "data": {
            "image/png": "[encoded data removed]",
            "text/plain": [
              "<Figure size 432x288 with 2 Axes>"
            ]
          },
          "metadata": {
            "tags": [],
            "needs_background": "light"
          }
        },
        {
          "output_type": "display_data",
          "data": {
            "image/png": "[encoded data removed]",
            "text/plain": [
              "<Figure size 432x288 with 2 Axes>"
            ]
          },
          "metadata": {
            "tags": [],
            "needs_background": "light"
          }
        },
        {
          "output_type": "display_data",
          "data": {
            "image/png": "[encoded data removed]",
            "text/plain": [
              "<Figure size 432x288 with 2 Axes>"
            ]
          },
          "metadata": {
            "tags": [],
            "needs_background": "light"
          }
        }
      ]
    },
    {
      "cell_type": "markdown",
      "metadata": {
        "id": "XMezpb7PAArB",
        "colab_type": "text"
      },
      "source": [
        "These confusion matrices with different threshold allow to **highlight the importance of setting the good threshold**. \n",
        "\n",
        "In fact, the more intuitive thresold is 0.5. However, as the third confusion matrix shows, putting this threshold lead to predict class 0 almost everytime. 98% of class 1 samples are predicted 0. This is due to the unbalanced repartition of the classes among the dataset, as mentioned before: **the model predict almost only 0**. \n",
        "\n",
        "However, decreasing this threshold puts **more restriction** on the dominant class 0. With a threshold at 0.1, the results are better as class 1 are more often predicted, and 91% of the sample of class 1 is well predicted. However, this threshold is maybe too restrictive as class 0 is well labeled only 56% of the time. \n",
        "\n",
        "The threshold can't be too low either, otherwise **class 1 will be overpredicted**, as the threshold at 0.0 shows (76% of class 0 samples are predicted as belonging to class 1).\n",
        "\n",
        "It finally appears that **the best threshold is 0.2**, as it allows to predict well 84% of class 0 samples, and 70% of class 1. "
      ]
    },
    {
      "cell_type": "code",
      "metadata": {
        "id": "SFmKpLy-AnZW",
        "colab_type": "code",
        "colab": {
          "base_uri": "https://localhost:8080/",
          "height": 86
        },
        "outputId": "f768a73f-d5cd-4354-99ef-8590571f624a"
      },
      "source": [
        "print('Testing accuracy with a threshold of 0.0:', accuracy_score(y_test, y_pred_reg00)*100, '%')\n",
        "print('Testing accuracy with a threshold of 0.1:', accuracy_score(y_test, y_pred_reg01)*100, '%')\n",
        "print('Testing accuracy with a threshold of 0.2:', accuracy_score(y_test, y_pred_reg02)*100, '%')\n",
        "print('Testing accuracy with a threshold of 0.5:', accuracy_score(y_test, y_pred_reg05)*100, '%')"
      ],
      "execution_count": 164,
      "outputs": [
        {
          "output_type": "stream",
          "text": [
            "Testing accuracy with a threshold of 0.0: 31.705 %\n",
            "Testing accuracy with a threshold of 0.1: 59.47 %\n",
            "Testing accuracy with a threshold of 0.2: 82.98100000000001 %\n",
            "Testing accuracy with a threshold of 0.5: 90.205 %\n"
          ],
          "name": "stdout"
        }
      ]
    },
    {
      "cell_type": "markdown",
      "metadata": {
        "id": "IsSyi3BFA4W5",
        "colab_type": "text"
      },
      "source": [
        "It is very interesting to remark that **when the threshold increases, the accuracy increases too**. Our best threshold (0.2) has an accuracy of 83% compared to 90% with a threshold at 0.5. This second accuracy is better only because more 0 are predicted.\n",
        "\n",
        "We can conclude that **we can't rely on the accuracy**."
      ]
    },
    {
      "cell_type": "markdown",
      "metadata": {
        "id": "g61Ha0EWVtVn",
        "colab_type": "text"
      },
      "source": [
        "# 2. Logistic Regression"
      ]
    },
    {
      "cell_type": "markdown",
      "metadata": {
        "id": "N1-sBLCgSINJ",
        "colab_type": "text"
      },
      "source": [
        "## Question a"
      ]
    },
    {
      "cell_type": "markdown",
      "metadata": {
        "id": "bDoXziy8VtVo",
        "colab_type": "text"
      },
      "source": [
        "*a) (code) The goal is to implement a Bayesian logistic regression classifier; assume a Gaussian prior on the parameters. As a first step, implement a Markov chain Monte Carlo inference algorithm to infer parameters (you should already have an implementation of the Metropolis- Hastings algorithm from the lab sessions).* [10]\n"
      ]
    },
    {
      "cell_type": "markdown",
      "metadata": {
        "id": "E-IeDXhuVtVq",
        "colab_type": "text"
      },
      "source": [
        "For this question, we can directly take the lines of code we implemented during the lab session 3 (first notebook)."
      ]
    },
    {
      "cell_type": "code",
      "metadata": {
        "id": "pWrb15QeVtVr",
        "colab_type": "code",
        "colab": {}
      },
      "source": [
        "def logistic(z):\n",
        "    return 1/(1+np.exp(-z))               ## *** TO COMPLETE *** ##\n",
        "\n",
        "jitter = 10**-10    # do as we did for bayesian inference\n",
        "class BernoulliLikelihood():\n",
        "    def logdensity(self, y, p):\n",
        "        return y*np.log(p + jitter)+(1-y)*np.log(1 - p + jitter)\n",
        "        #np.dot(y.T, np.log(p)) + np.dot((1-y).T, np.log(1-p))   ## *** TO COMPLETE *** ##\n",
        "        \n",
        "class NormalPrior():\n",
        "    def __init__(self, sigma2x):\n",
        "        self.sigma2x = sigma2x\n",
        "        \n",
        "    def logdensity(self, x):\n",
        "        return -1/(2*self.sigma2x)*np.dot(x, x.T)       ## *** TO COMPLETE *** ##"
      ],
      "execution_count": 0,
      "outputs": []
    },
    {
      "cell_type": "code",
      "metadata": {
        "id": "X4GbTXivVtVv",
        "colab_type": "code",
        "colab": {}
      },
      "source": [
        "class MHSampler():\n",
        "    @property\n",
        "    def samples(self):\n",
        "        return self._samples\n",
        "    @samples.getter    \n",
        "    def samples(self):\n",
        "        return np.asarray(self._samples)\n",
        "    \n",
        "    def __init__(self, initial_sample, likelihood, prior):\n",
        "        self.likelihood = likelihood\n",
        "        self.prior = prior\n",
        "        self._samples = [initial_sample]\n",
        "        \n",
        "        \n",
        "    def unnormalized_logposterior(self, w, X, y):\n",
        "        p = logistic(np.dot(X,w.T))\n",
        "        log_likelihood = np.sum(BernoulliLikelihood().logdensity(y, p))            ## *** TO COMPLETE *** ##\n",
        "        log_prior = self.prior.logdensity(w)        ## *** TO COMPLETE *** ##\n",
        "        return log_likelihood + log_prior\n",
        "\n",
        "\n",
        "    def step(self, X, y, step_proposal):\n",
        "        w_prev = self._samples[-1]\n",
        "        w_proposal = np.random.normal(w_prev, np.eye(len(w_prev))*step_proposal, w_prev.shape)    ## *** TO COMPLETE *** ##\n",
        "        \n",
        "        log_gw_prev = self.unnormalized_logposterior(w_prev, X, y)     ## *** TO COMPLETE *** ##\n",
        "        log_gw_proposal = self.unnormalized_logposterior(w_proposal, X, y)   ## *** TO COMPLETE *** ##\n",
        "        acceptance_ratio = np.exp(log_gw_proposal - log_gw_prev)            ## *** TO COMPLETE *** ##\n",
        "        \n",
        "        if acceptance_ratio >= 1:            ## *** TO COMPLETE *** ##\n",
        "            self._samples.append(w_proposal)\n",
        "        else:\n",
        "            u = np.random.uniform(0,1)            ## *** TO COMPLETE *** ##\n",
        "            if u <= acceptance_ratio:           ## *** TO COMPLETE *** ##\n",
        "                self._samples.append(w_proposal)\n",
        "            else:\n",
        "                self._samples.append(w_prev)\n",
        "\n",
        "        return min(acceptance_ratio, 1)"
      ],
      "execution_count": 0,
      "outputs": []
    },
    {
      "cell_type": "code",
      "metadata": {
        "id": "eGUc8GcEVtV0",
        "colab_type": "code",
        "colab": {}
      },
      "source": [
        "set_seed()\n",
        "\n",
        "likelihood = BernoulliLikelihood()             ## *** TO COMPLETE *** ##\n",
        "prior = NormalPrior(1)          ## *** TO COMPLETE *** ##\n",
        "\n",
        "starting_point = X_train[np.random.randint(0, len(X_train[0]),1)]\n",
        "## *** TO COMPLETE *** ##\n",
        "sampler = MHSampler(starting_point, likelihood, prior)         ## *** TO COMPLETE *** ##"
      ],
      "execution_count": 0,
      "outputs": []
    },
    {
      "cell_type": "code",
      "metadata": {
        "id": "B82N6LThVtV6",
        "colab_type": "code",
        "colab": {}
      },
      "source": [
        "set_seed()\n",
        "step_proposal = 0.8\n",
        "y_train = y_train.reshape(np.shape(y_train)[0],1)\n",
        "\n",
        "for _ in range(10000):\n",
        "  sampler.step(X_train, y_train, step_proposal)    ## *** TO COMPLETE *** ##"
      ],
      "execution_count": 0,
      "outputs": []
    },
    {
      "cell_type": "markdown",
      "metadata": {
        "id": "lqGZ1KqNSMvM",
        "colab_type": "text"
      },
      "source": [
        "## Question b"
      ]
    },
    {
      "cell_type": "markdown",
      "metadata": {
        "id": "MSJhVfALVtWF",
        "colab_type": "text"
      },
      "source": [
        "*b) (code) Implement the variational approximation we studied in the course to obtain an approximation to the posterior over model parameters (you should already have an implementation of the from the lab sessions).* [10]"
      ]
    },
    {
      "cell_type": "markdown",
      "metadata": {
        "id": "BanRbfV0dOn5",
        "colab_type": "text"
      },
      "source": [
        "For this question, we can directly take the lines of code we implemented during the lab session 3 (second notebook)."
      ]
    },
    {
      "cell_type": "code",
      "metadata": {
        "id": "iLu9SKr5kYkr",
        "colab_type": "code",
        "colab": {}
      },
      "source": [
        "warnings.filterwarnings(\"ignore\")\n",
        "def set_seed(seed: int=0):\n",
        "    np.random.seed(seed)\n",
        "    torch.manual_seed(seed)"
      ],
      "execution_count": 0,
      "outputs": []
    },
    {
      "cell_type": "code",
      "metadata": {
        "id": "2ikB_3kXVtWG",
        "colab_type": "code",
        "colab": {}
      },
      "source": [
        "jitter = 1e-10\n",
        "\n",
        "class Distribution(nn.Module):  \n",
        "    pass\n",
        "        \n",
        "class Bernoulli_torch(Distribution):\n",
        "    @args_as_tensors(1, 2)\n",
        "    def logdensity(self, y, p):\n",
        "        return (y*torch.log(p+jitter)+(1-y)*torch.log(1-p+jitter)) ## *** TO COMPLETE *** ##"
      ],
      "execution_count": 0,
      "outputs": []
    },
    {
      "cell_type": "code",
      "metadata": {
        "id": "7huMtD8KXbJH",
        "colab_type": "code",
        "colab": {}
      },
      "source": [
        "class NormalDiagonal(Distribution):\n",
        "    @property\n",
        "    def var(self):\n",
        "        return self.logvar.exp()\n",
        "    \n",
        "    def extra_repr(self):\n",
        "        return 'train=%s' % self.train\n",
        "    \n",
        "    def __init__(self, d, train=True):\n",
        "        super(NormalDiagonal, self).__init__()\n",
        "        self.train = train\n",
        "        self.d = d\n",
        "        self.mean = nn.Parameter(torch.zeros(d), requires_grad=train)\n",
        "        self.logvar = nn.Parameter(torch.zeros(d), requires_grad=train)\n",
        "    \n",
        "    def sample(self, n=1):\n",
        "        eps = torch.randn(n,self.d,requires_grad=False)         ## *** TO COMPLETE *** ##\n",
        "        samples = self.mean + eps*(torch.sqrt((torch.exp(self.logvar))))        ## *** TO COMPLETE *** ##    # shape: [n x self.d]\n",
        "        return samples"
      ],
      "execution_count": 0,
      "outputs": []
    },
    {
      "cell_type": "code",
      "metadata": {
        "id": "z-nvbWRwXbMA",
        "colab_type": "code",
        "colab": {}
      },
      "source": [
        "_KL_REGISTRY = {}  # Source of truth mapping a few general (type, type) pairs to functions.\n",
        "_KL_MEMOIZE = {}  # Memoized version mapping many specific (type, type) pairs to functions.\n",
        "\n",
        "@total_ordering\n",
        "class _Match(object):\n",
        "    __slots__ = ['types']\n",
        "\n",
        "    def __init__(self, *types):\n",
        "        self.types = types\n",
        "\n",
        "    def __eq__(self, other):\n",
        "        return self.types == other.types\n",
        "\n",
        "    def __le__(self, other):\n",
        "        for x, y in zip(self.types, other.types):\n",
        "            if not issubclass(x, y):\n",
        "                return False\n",
        "            if x is not y:\n",
        "                break\n",
        "        return True\n",
        "\n",
        "def _dispatch_kl(type_q, type_p):\n",
        "    matches = [(super_q, super_p) for super_q, super_p in _KL_REGISTRY\n",
        "               if issubclass(type_q, super_q) and issubclass(type_p, super_p)]\n",
        "    if not matches:\n",
        "        return NotImplemented\n",
        "    left_q, left_p = min(_Match(*m) for m in matches).types\n",
        "    right_p, right_q = min(_Match(*reversed(m)) for m in matches).types\n",
        "    left_fun = _KL_REGISTRY[left_q, left_p]\n",
        "    right_fun = _KL_REGISTRY[right_q, right_p]\n",
        "    if left_fun is not right_fun:\n",
        "        logger.warning('Ambiguous kl_divergence({}, {}). Please register_kl({}, {})'.format(\n",
        "            type_q.__name__, type_p.__name__, left_q.__name__, right_p.__name__))\n",
        "    return left_fun\n",
        "\n",
        "\n",
        "def register_kl(type_q, type_p):\n",
        "    \"\"\"\n",
        "    Decorator to register a pairwise function with kl_divergence.\n",
        "    Usage:\n",
        "\n",
        "        @register_kl(Normal, Normal)\n",
        "        def kl_normal_normal(q, p):\n",
        "            # insert implementation here\n",
        "    \"\"\"\n",
        "    if not isinstance(type_q, type) and issubclass(type_q, BaseDistribution):\n",
        "        raise TypeError('Expected type_q to be a Distribution subclass but got {}'.format(type_q))\n",
        "    if not isinstance(type_p, type) and issubclass(type_p, BaseDistribution):\n",
        "        raise TypeError('Expected type_p to be a Distribution subclass but got {}'.format(type_p))\n",
        "    \n",
        "    def decorator(fun):\n",
        "        _KL_REGISTRY[type_q, type_p] = fun\n",
        "        _KL_MEMOIZE.clear()  # reset since lookup order may have changed\n",
        "        print('KL divergence between \\'%s\\' and \\'%s\\' registered.' % (type_q.__name__, type_p.__name__))\n",
        "        return fun\n",
        "    return decorator\n",
        "\n",
        "\n",
        "def kl_divergence(q, p):\n",
        "    r\"\"\"Compute Kullback-Leibler divergence KL(p|q) between two distributions.\"\"\"\n",
        "    try:\n",
        "        fun = _KL_MEMOIZE[type(q), type(p)]\n",
        "    except KeyError:\n",
        "        fun = _dispatch_kl(type(q), type(p))\n",
        "        _KL_MEMOIZE[type(q), type(p)] = fun\n",
        "    if fun is NotImplemented:\n",
        "        raise NotImplementedError('KL divergence for pair %s - %s not registered' % (type(q).__name__,\n",
        "                                                                                     type(p).__name__))\n",
        "    return fun(q, p)"
      ],
      "execution_count": 0,
      "outputs": []
    },
    {
      "cell_type": "code",
      "metadata": {
        "id": "rF-pRl8NXbOv",
        "colab_type": "code",
        "colab": {}
      },
      "source": [
        "class NormalFullCovariance(Distribution): \n",
        "    def extra_repr(self):\n",
        "        return 'train=%s' % self.train\n",
        "    \n",
        "    def __init__(self, d, train=True):\n",
        "        super(NormalFullCovariance, self).__init__()\n",
        "        self.train = train\n",
        "        self.d = d\n",
        "        self.mean = nn.Parameter(torch.zeros(d), requires_grad=train)\n",
        "        self.cholesky_cov = nn.Parameter(torch.eye(d), requires_grad=train)\n",
        "    \n",
        "    def sample(self, n=3):\n",
        "        eps = torch.randn(n, self.d)      ## *** TO COMPLETE *** ##\n",
        "        samples = self.mean+eps@ torch.tril(self.cholesky_cov)      ## *** TO COMPLETE *** ##\n",
        "        return samples"
      ],
      "execution_count": 0,
      "outputs": []
    },
    {
      "cell_type": "code",
      "metadata": {
        "id": "yQ8X4bDoXx_3",
        "colab_type": "code",
        "colab": {
          "base_uri": "https://localhost:8080/",
          "height": 34
        },
        "outputId": "d277e52c-59eb-4620-aa93-eea5b77d8371"
      },
      "source": [
        "@register_kl(NormalFullCovariance, NormalDiagonal)\n",
        "def _kl_normalfullcov_normaldiagonal(q, p):\n",
        "    kl = (\n",
        "        torch.sum(p.logvar.exp() * torch.diag(q.cholesky_cov)**2) + \n",
        "        torch.sum(p.logvar.exp() * (p.mean - q.mean) ** 2) +\n",
        "        torch.sum(p.logvar) + \n",
        "        torch.sum(torch.log(torch.diag(q.cholesky_cov)) ** 2) -\n",
        "        len(q.mean)\n",
        "    )\n",
        "    return .5 * kl"
      ],
      "execution_count": 98,
      "outputs": [
        {
          "output_type": "stream",
          "text": [
            "KL divergence between 'NormalFullCovariance' and 'NormalDiagonal' registered.\n"
          ],
          "name": "stdout"
        }
      ]
    },
    {
      "cell_type": "code",
      "metadata": {
        "id": "HyrgsEate0wa",
        "colab_type": "code",
        "colab": {}
      },
      "source": [
        "def logistic_torch(z):\n",
        "    return 1/(1+torch.exp(-z))      ## *** TO COMPLETE *** ##\n",
        "\n",
        "\n",
        "class LogisticRegression(nn.Module):\n",
        "    def __init__(self, input_dim):\n",
        "        super(LogisticRegression, self).__init__()\n",
        "        \n",
        "        self.prior_w = NormalDiagonal(input_dim, train=False)     ## *** TO COMPLETE *** ##\n",
        "        self.posterior_w = NormalFullCovariance(input_dim)      ## *** TO COMPLETE *** ##\n",
        "        \n",
        "    @args_as_tensors(1)\n",
        "    def predict_y(self, X, mc_samples=1):\n",
        "        w_samples = torch.unsqueeze(self.posterior_w.sample(mc_samples), dim=2)     ## *** TO COMPLETE *** ##\n",
        "        y_samples = logistic_torch(X @ w_samples)      ## *** TO COMPLETE *** ##\n",
        "        return y_samples"
      ],
      "execution_count": 0,
      "outputs": []
    },
    {
      "cell_type": "code",
      "metadata": {
        "id": "cgTc83D3f43S",
        "colab_type": "code",
        "colab": {}
      },
      "source": [
        "class VariationalObjective(nn.Module):    \n",
        "    def __init__(self, model, likelihood, N, mc_samples=1):\n",
        "        super(VariationalObjective, self).__init__()\n",
        "        self.N = N\n",
        "        self.model = model\n",
        "        self.likelihood = likelihood\n",
        "        self.mc_samples = mc_samples\n",
        "        \n",
        "    def expected_loglikelihood(self, Xbatch, ybatch):\n",
        "        ypred = model.predict_y(Xbatch,self.mc_samples)     ## *** TO COMPLETE *** ##\n",
        "        logliks = (1/self.mc_samples)*(self.N/(len(Xbatch)))*torch.sum(likelihood.logdensity(ybatch,ypred))     ## *** TO COMPLETE *** ##\n",
        "        return logliks      ## *** TO COMPLETE *** ##\n",
        "\n",
        "\n",
        "    def kl(self):\n",
        "        return kl_divergence(self.model.posterior_w, self.model.prior_w)      ## *** TO COMPLETE *** ##\n",
        "    \n",
        "    def compute_objective(self, Xbatch, ybatch):\n",
        "        return -self.expected_loglikelihood(Xbatch, ybatch)+self.kl()       ## *** TO COMPLETE *** ##"
      ],
      "execution_count": 0,
      "outputs": []
    },
    {
      "cell_type": "code",
      "metadata": {
        "id": "poARU_pTgLbd",
        "colab_type": "code",
        "colab": {}
      },
      "source": [
        "class Summary:\n",
        "    @property\n",
        "    def data(self):\n",
        "        data = pd.DataFrame(self._data, columns=['step', self.name, 'time'])\n",
        "        data.time = data.time - data.time.iloc[0]\n",
        "        return data\n",
        "    \n",
        "    def __init__(self, name):\n",
        "        \"\"\"A simple class to store some values during optimization\"\"\"\n",
        "        self.name = str(name)\n",
        "        self._data = []\n",
        "    \n",
        "    def append(self, step, value):\n",
        "        self._data.append([step, float(value.detach().numpy()), time.time()])"
      ],
      "execution_count": 0,
      "outputs": []
    },
    {
      "cell_type": "code",
      "metadata": {
        "id": "ZC-QP7YvgXAy",
        "colab_type": "code",
        "colab": {}
      },
      "source": [
        "class Dataset():\n",
        "    def __init__(self, X, y, minibatch_size):\n",
        "        self.X = X\n",
        "        self.y = y \n",
        "        self.minibatch_size = min(minibatch_size, len(self.X))\n",
        "        self._i = 0  \n",
        "    def next_batch(self):  \n",
        "        if len(self.X) <= self._i + self.minibatch_size:\n",
        "            shuffle = np.random.permutation(len(self.X))\n",
        "            self.X = self.X[shuffle]\n",
        "            self.y = self.y[shuffle]\n",
        "            Xbatch = self.X[self._i:]\n",
        "            ybatch = self.y[self._i:]\n",
        "            self._i = 0\n",
        "            return Xbatch, ybatch\n",
        "\n",
        "        Xbatch = self.X[self._i:self._i + self.minibatch_size]\n",
        "        ybatch = self.y[self._i:self._i + self.minibatch_size]\n",
        "        self._i += self.minibatch_size\n",
        "        return Xbatch, ybatch"
      ],
      "execution_count": 0,
      "outputs": []
    },
    {
      "cell_type": "code",
      "metadata": {
        "id": "LEcQWpgugb4v",
        "colab_type": "code",
        "colab": {}
      },
      "source": [
        "dataset = Dataset(X_train, y_train, minibatch_size=128)\n",
        "\n",
        "likelihood = Bernoulli_torch()\n",
        "model = LogisticRegression(len(X_train[0]))    ## *** TO COMPLETE *** ##\n",
        "\n",
        "nelbo = VariationalObjective(model,likelihood,len(X_train), 1000)    ## *** TO COMPLETE *** ##"
      ],
      "execution_count": 0,
      "outputs": []
    },
    {
      "cell_type": "code",
      "metadata": {
        "id": "rcQfoXXrhF8Q",
        "colab_type": "code",
        "colab": {}
      },
      "source": [
        "nelbo_summary = Summary('nelbo')\n",
        "nll_summary = Summary('expected_loglik')\n",
        "kl_summary = Summary('kl')\n",
        "\n",
        "optim = torch.optim.SGD(filter(lambda p: p.requires_grad,model.parameters()), lr = 10**-12)     ## *** TO COMPLETE *** ##\n",
        "num_iterations = 1500\n",
        "\n",
        "for step in range(num_iterations):\n",
        "    ## *** TO COMPLETE *** ##\n",
        "    optim.zero_grad()\n",
        "    Xbatch, ybatch = dataset.next_batch()     ## *** TO COMPLETE *** ##\n",
        "    loss = nelbo.compute_objective(Xbatch, ybatch)      ## *** TO COMPLETE *** ##\n",
        "    \n",
        "    nelbo_summary.append(step, loss)\n",
        "    nll_summary.append(step, loss - nelbo.kl())\n",
        "    kl_summary.append(step, nelbo.kl())\n",
        "\n",
        "    ## *** TO COMPLETE *** ##\n",
        "    ## *** TO COMPLETE *** ##\n",
        "    loss.backward()\n",
        "    optim.step()"
      ],
      "execution_count": 0,
      "outputs": []
    },
    {
      "cell_type": "code",
      "metadata": {
        "id": "NPN-Gfx3HONn",
        "colab_type": "code",
        "colab": {
          "base_uri": "https://localhost:8080/",
          "height": 247
        },
        "outputId": "decf609a-6fa4-429a-f885-ba12e9b10c33"
      },
      "source": [
        "fig, axs = plt.subplots(1, 2, figsize=[10, 3])\n",
        "\n",
        "nelbo_summary.data.plot(x='step', y='nelbo', ax=axs[0]);\n",
        "nll_summary.data.plot(x='step', y='expected_loglik', ax=axs[1], c='C1');\n",
        "kl_summary.data.plot(x='step', y='kl', ax=axs[1], c='C2');\n",
        "axs[1].semilogy();\n",
        "fig.suptitle('Optimization of the nelbo with SGD lr=1e-11 batch size = 128, 1500 MC samples')\n",
        "axs[0].margins(0, 0.05)"
      ],
      "execution_count": 145,
      "outputs": [
        {
          "output_type": "display_data",
          "data": {
            "image/png": "[encoded data removed]",
            "text/plain": [
              "<Figure size 720x216 with 2 Axes>"
            ]
          },
          "metadata": {
            "tags": [],
            "needs_background": "light"
          }
        }
      ]
    },
    {
      "cell_type": "markdown",
      "metadata": {
        "id": "m5S1spK0SQQY",
        "colab_type": "text"
      },
      "source": [
        "## Question c"
      ]
    },
    {
      "cell_type": "markdown",
      "metadata": {
        "id": "PbnmusRfmV-d",
        "colab_type": "text"
      },
      "source": [
        "*c) (code) Based on samples from the posterior over model parameters, write a function that computes the predictive distribution, and write the necessary functions to evaluate classification metrics such as the log-likelihood on test data and error rate.* [10]"
      ]
    },
    {
      "cell_type": "markdown",
      "metadata": {
        "id": "1LsHGi3RInct",
        "colab_type": "text"
      },
      "source": [
        "### Markov Chain Monte Carlo"
      ]
    },
    {
      "cell_type": "markdown",
      "metadata": {
        "id": "QiaufkXhL81Q",
        "colab_type": "text"
      },
      "source": [
        "Let's first do prediction thanks to the **Markov chain Monte Carlo inference algorithm** we implemented in question 2 a. \n",
        "\n",
        "To do the predictions, let's first define the function $\\mathbf{predict}$ that computes the predictive distribution over unseen data, and save the output for each set of parameters we are going to try. "
      ]
    },
    {
      "cell_type": "code",
      "metadata": {
        "id": "Ns1z63n0L8U6",
        "colab_type": "code",
        "colab": {}
      },
      "source": [
        "def predict(x_new, w_samples):\n",
        "    S = len(w_samples)\n",
        "    return (1/S)*np.sum(logistic(np.dot(w_samples, x_new)))     ## *** TO COMPLETE *** ##"
      ],
      "execution_count": 0,
      "outputs": []
    },
    {
      "cell_type": "code",
      "metadata": {
        "id": "nVxipCzferNv",
        "colab_type": "code",
        "colab": {}
      },
      "source": [
        "y_pred_08_10000 = []\n",
        "for x_test in X_test:\n",
        "  pred = predict(x_test, sampler.samples)\n",
        "  y_pred_08_10000.append(pred)"
      ],
      "execution_count": 0,
      "outputs": []
    },
    {
      "cell_type": "code",
      "metadata": {
        "id": "IUooD87HZk59",
        "colab_type": "code",
        "colab": {}
      },
      "source": [
        "np.save('y_pred_08_10000.npy', y_pred_08_10000)"
      ],
      "execution_count": 0,
      "outputs": []
    },
    {
      "cell_type": "markdown",
      "metadata": {
        "id": "Hk-qro5QMReC",
        "colab_type": "text"
      },
      "source": [
        "Now that the prediction is done, let's transform the outputs to have discrete labels, and not continuous. We can use the function $\\mathbf{discrete}$ I defined previously (question 1 d), with value of the threshold the more intuitive: threshold = 0.5. Let's then compute metrics such as the log-likelihood on test data, the error rate, the accuracy and the confusion matrix. "
      ]
    },
    {
      "cell_type": "markdown",
      "metadata": {
        "id": "LS1LaSlKJDjk",
        "colab_type": "text"
      },
      "source": [
        "\n",
        "\n",
        "> Number of steps = 10 000, step proposal = 0.1\n",
        "\n"
      ]
    },
    {
      "cell_type": "code",
      "metadata": {
        "id": "ujqb416scdlF",
        "colab_type": "code",
        "colab": {}
      },
      "source": [
        "y_pred_01_10000 = np.load('/content/drive/My Drive/asi/y_pred_01_10000.npy', allow_pickle=True)"
      ],
      "execution_count": 0,
      "outputs": []
    },
    {
      "cell_type": "code",
      "metadata": {
        "id": "rJH8yu3LWI2W",
        "colab_type": "code",
        "colab": {
          "base_uri": "https://localhost:8080/",
          "height": 86
        },
        "outputId": "c6a84ac9-ddb5-4d7a-d407-9035b77b5379"
      },
      "source": [
        "y_pred_01_10000_discrete = discrete(0.5, y_pred_01_10000)\n",
        "\n",
        "accuracy_01_10000 = accuracy_score(y_test, y_pred_01_10000_discrete)*100\n",
        "print('Testing accuracy:', accuracy_01_10000, '%')\n",
        "log_likelihood_01_10000 = np.sum(BernoulliLikelihood().logdensity(y_test,np.array(y_pred_01_10000_discrete)))\n",
        "print('Testing log-likelihood =', log_likelihood_01_10000)\n",
        "\n",
        "fpr, tpr, _ = roc_curve(y_test, y_pred_01_10000_discrete)\n",
        "fpr_01_10000 = fpr[1]\n",
        "tpr_01_10000 = tpr[1]\n",
        "print('False Positive Rate of the MCMC sampler on the Testing set :', fpr_01_10000)\n",
        "print('True Positive Rate of the MCMC sampler n the Testing set :', tpr_01_10000)"
      ],
      "execution_count": 87,
      "outputs": [
        {
          "output_type": "stream",
          "text": [
            "Testing accuracy: 55.062 %\n",
            "Testing log-likelihood = -1034735.6890841584\n",
            "False Positive Rate of the MCMC sampler on the Testing set : 0.471066113957391\n",
            "True Positive Rate of the MCMC sampler n the Testing set : 0.7453837708354127\n"
          ],
          "name": "stdout"
        }
      ]
    },
    {
      "cell_type": "code",
      "metadata": {
        "id": "saP-ECLTSH_q",
        "colab_type": "code",
        "colab": {
          "base_uri": "https://localhost:8080/",
          "height": 279
        },
        "outputId": "cb7a6f30-8fb2-46bc-f5e4-0d6396f48329"
      },
      "source": [
        "columns = ['True label','Predicted label']\n",
        "\n",
        "results_pd = pd.concat([pd.DataFrame(y_test),pd.DataFrame(y_pred_01_10000_discrete)],axis=1)\n",
        "results_pd.columns = columns\n",
        "\n",
        "confusion_matrix = pd.crosstab(results_pd['True label'], results_pd['Predicted label'], rownames=['True label'], colnames=['Predicted label with threshold = 0.5']).astype('float') \n",
        "confusion_matrix = confusion_matrix/ confusion_matrix.sum(axis=1)[:, np.newaxis]\n",
        "sns.heatmap(confusion_matrix, annot=True, fmt='.2f')\n",
        "plt.show()"
      ],
      "execution_count": 75,
      "outputs": [
        {
          "output_type": "display_data",
          "data": {
            "image/png": "[encoded data removed]",
            "text/plain": [
              "<Figure size 432x288 with 2 Axes>"
            ]
          },
          "metadata": {
            "tags": [],
            "needs_background": "light"
          }
        }
      ]
    },
    {
      "cell_type": "markdown",
      "metadata": {
        "id": "Pi0ENJX_J0uO",
        "colab_type": "text"
      },
      "source": [
        "\n",
        "\n",
        "> Number of steps = 1 000, step proposal = 0.1\n",
        "\n"
      ]
    },
    {
      "cell_type": "code",
      "metadata": {
        "id": "NBsic8kUJ8Of",
        "colab_type": "code",
        "colab": {}
      },
      "source": [
        "y_pred_01_1000 = np.load('/content/drive/My Drive/asi/y_pred_01_1000.npy', allow_pickle=True)"
      ],
      "execution_count": 0,
      "outputs": []
    },
    {
      "cell_type": "code",
      "metadata": {
        "colab_type": "code",
        "outputId": "2b858829-7ee7-4ceb-c655-6852b8325244",
        "id": "XigTyl53Jzhx",
        "colab": {
          "base_uri": "https://localhost:8080/",
          "height": 86
        }
      },
      "source": [
        "y_pred_01_1000_discrete = discrete(0.5, y_pred_01_1000)\n",
        "\n",
        "accuracy_01_1000 = accuracy_score(y_test, y_pred_01_1000_discrete)*100\n",
        "print('Testing accuracy:', accuracy_01_1000, '%')\n",
        "log_likelihood_01_1000 = np.sum(BernoulliLikelihood().logdensity(y_test,np.array(y_pred_01_1000_discrete)))\n",
        "print('Testing log-likelihood =', log_likelihood_01_1000)\n",
        "\n",
        "fpr, tpr, _ = roc_curve(y_test, y_pred_01_1000_discrete)\n",
        "fpr_01_1000 = fpr[1]\n",
        "tpr_01_1000 = tpr[1]\n",
        "print('False Positive Rate of the MCMC sampler on the Testing set :', fpr_01_1000)\n",
        "print('True Positive Rate of the MCMC sampler n the Testing set :', tpr_01_1000)"
      ],
      "execution_count": 89,
      "outputs": [
        {
          "output_type": "stream",
          "text": [
            "Testing accuracy: 54.959 %\n",
            "Testing log-likelihood = -1037107.3517299523\n",
            "False Positive Rate of the MCMC sampler on the Testing set : 0.4723997288316422\n",
            "True Positive Rate of the MCMC sampler n the Testing set : 0.7470805469607745\n"
          ],
          "name": "stdout"
        }
      ]
    },
    {
      "cell_type": "code",
      "metadata": {
        "colab_type": "code",
        "outputId": "6bc07ba8-29e8-41d3-a449-9d860e9b6298",
        "id": "5zFccLvjJzh7",
        "colab": {
          "base_uri": "https://localhost:8080/",
          "height": 279
        }
      },
      "source": [
        "columns = ['True label','Predicted label']\n",
        "\n",
        "results_pd = pd.concat([pd.DataFrame(y_test),pd.DataFrame(y_pred_01_1000_discrete)],axis=1)\n",
        "results_pd.columns = columns\n",
        "\n",
        "confusion_matrix = pd.crosstab(results_pd['True label'], results_pd['Predicted label'], rownames=['True label'], colnames=['Predicted label with threshold = 0.5']).astype('float') \n",
        "confusion_matrix = confusion_matrix/ confusion_matrix.sum(axis=1)[:, np.newaxis]\n",
        "sns.heatmap(confusion_matrix, annot=True, fmt='.2f')\n",
        "plt.show()"
      ],
      "execution_count": 80,
      "outputs": [
        {
          "output_type": "display_data",
          "data": {
            "image/png": "[encoded data removed]",
            "text/plain": [
              "<Figure size 432x288 with 2 Axes>"
            ]
          },
          "metadata": {
            "tags": [],
            "needs_background": "light"
          }
        }
      ]
    },
    {
      "cell_type": "markdown",
      "metadata": {
        "id": "kyXCp2EkKQjs",
        "colab_type": "text"
      },
      "source": [
        "\n",
        "\n",
        "> Number of steps = 10 000, step proposal = 0.8\n",
        "\n"
      ]
    },
    {
      "cell_type": "code",
      "metadata": {
        "id": "IQVjedTEJy8B",
        "colab_type": "code",
        "colab": {}
      },
      "source": [
        "y_pred_08_10000 = np.load('/content/drive/My Drive/asi/y_pred_08_10000.npy', allow_pickle=True)"
      ],
      "execution_count": 0,
      "outputs": []
    },
    {
      "cell_type": "code",
      "metadata": {
        "id": "b9w-8cQyJzBw",
        "colab_type": "code",
        "colab": {
          "base_uri": "https://localhost:8080/",
          "height": 86
        },
        "outputId": "eb5f78b5-32ae-4a2f-e92b-6fcebd5cc297"
      },
      "source": [
        "y_pred_08_10000_discrete = discrete(0.5, y_pred_08_10000)\n",
        "\n",
        "accuracy_08_10000 = accuracy_score(y_test, y_pred_08_10000_discrete)*100\n",
        "print('Testing accuracy:', accuracy_08_10000, '%')\n",
        "log_likelihood_08_10000 = np.sum(BernoulliLikelihood().logdensity(y_test,np.array(y_pred_08_10000_discrete)))\n",
        "print('Testing log-likelihood =', log_likelihood_08_10000)\n",
        "\n",
        "fpr, tpr, _ = roc_curve(y_test, y_pred_08_10000_discrete)\n",
        "fpr_08_10000 = fpr[1]\n",
        "tpr_08_10000 = tpr[1]\n",
        "print('False Positive Rate of the MCMC sampler on the Testing set :', fpr_08_10000)\n",
        "print('True Positive Rate of the MCMC sampler n the Testing set :', tpr_08_10000)"
      ],
      "execution_count": 90,
      "outputs": [
        {
          "output_type": "stream",
          "text": [
            "Testing accuracy: 54.215999999999994 %\n",
            "Testing log-likelihood = -1054215.5589709724\n",
            "False Positive Rate of the MCMC sampler on the Testing set : 0.47574487947455574\n",
            "True Positive Rate of the MCMC sampler n the Testing set : 0.7029643677013674\n"
          ],
          "name": "stdout"
        }
      ]
    },
    {
      "cell_type": "code",
      "metadata": {
        "id": "NnrZ-q24Jy_Y",
        "colab_type": "code",
        "colab": {
          "base_uri": "https://localhost:8080/",
          "height": 282
        },
        "outputId": "cc1992fa-9503-4b7a-a774-13f96345fc78"
      },
      "source": [
        "columns = ['True label','Predicted label']\n",
        "\n",
        "results_pd = pd.concat([pd.DataFrame(y_test),pd.DataFrame(y_pred_08_10000_discrete)],axis=1)\n",
        "results_pd.columns = columns\n",
        "\n",
        "confusion_matrix = pd.crosstab(results_pd['True label'], results_pd['Predicted label'], rownames=['True label'], colnames=['Predicted label with threshold = 0.5']).astype('float') \n",
        "confusion_matrix = confusion_matrix/ confusion_matrix.sum(axis=1)[:, np.newaxis]\n",
        "sns.heatmap(confusion_matrix, annot=True, fmt='.2f')\n",
        "plt.show()"
      ],
      "execution_count": 91,
      "outputs": [
        {
          "output_type": "display_data",
          "data": {
            "image/png": "[encoded data removed]",
            "text/plain": [
              "<Figure size 432x288 with 2 Axes>"
            ]
          },
          "metadata": {
            "tags": [],
            "needs_background": "light"
          }
        }
      ]
    },
    {
      "cell_type": "markdown",
      "metadata": {
        "id": "9Gch0iZrVoTy",
        "colab_type": "text"
      },
      "source": [
        "### Variational inference"
      ]
    },
    {
      "cell_type": "code",
      "metadata": {
        "id": "I8BOZj5EV5C0",
        "colab_type": "code",
        "colab": {}
      },
      "source": [
        "with torch.no_grad():\n",
        "  n_samples= 1500\n",
        "  y_pred_vi = (1/n_samples)*(torch.sum(model.predict_y(X_test, n_samples),dim=0).detach().numpy())\n",
        "  y_pred_vi = np.array(y_pred_vi)"
      ],
      "execution_count": 0,
      "outputs": []
    },
    {
      "cell_type": "markdown",
      "metadata": {
        "id": "vjkFdIH1Wvc9",
        "colab_type": "text"
      },
      "source": [
        "Now that we have the prediction (continuous), let's discretize it with the $\\mathbf{discrete}$ function I defined earlier. "
      ]
    },
    {
      "cell_type": "markdown",
      "metadata": {
        "id": "3-6zlFzfdGK9",
        "colab_type": "text"
      },
      "source": [
        "\n",
        "\n",
        "> Learning rate = 1e-2, optimizer = SGD, number of iteration = 1500, batch_size = 128\n",
        "\n"
      ]
    },
    {
      "cell_type": "markdown",
      "metadata": {
        "id": "o4VkH1dmdIqF",
        "colab_type": "text"
      },
      "source": [
        "Because of a very small learning rate, the algorithm do not converge, and we can't predict anything."
      ]
    },
    {
      "cell_type": "markdown",
      "metadata": {
        "id": "ApEG1jY9Yw48",
        "colab_type": "text"
      },
      "source": [
        "\n",
        "\n",
        "> Learning rate = 1e-9, optimizer = SGD, number of iteration = 1500, batch_size = 128\n",
        "\n"
      ]
    },
    {
      "cell_type": "code",
      "metadata": {
        "id": "f4DgS5vkWaON",
        "colab_type": "code",
        "colab": {}
      },
      "source": [
        "y_pred_vi_discrete = discrete(0.5, y_pred_vi)"
      ],
      "execution_count": 0,
      "outputs": []
    },
    {
      "cell_type": "code",
      "metadata": {
        "id": "whR3hGgrXQwM",
        "colab_type": "code",
        "colab": {
          "base_uri": "https://localhost:8080/",
          "height": 86
        },
        "outputId": "10c01ff9-72c8-4a38-8bf0-c18c4da4fc18"
      },
      "source": [
        "accuracy_vi = accuracy_score(y_test, y_pred_vi_discrete)*100\n",
        "print('Testing accuracy:', accuracy_01_10000, '%')\n",
        "\n",
        "Bernouilli_vi = Bernoulli_torch()\n",
        "log_likelihood_vi=0\n",
        "for i in range(10):\n",
        "    log_likelihood_vi = log_likelihood_vi + (1/1000)*(len(X_test[i*10000:(i+1)*10000])/(128))\\\n",
        "                        *torch.sum(Bernouilli_vi.logdensity(y_test[i*10000:(i+1)*10000],\n",
        "                                                   predictions_vi[i*10000:(i+1)*10000]))\n",
        "   \n",
        "print('Testing loglikelyhood = {}'.format(log_likelihood_vi.detach().numpy()))\n",
        "\n",
        "fpr, tpr, _ = roc_curve(y_test, y_pred_08_10000_discrete)\n",
        "fpr_vi = fpr[1]\n",
        "tpr_vi = tpr[1]\n",
        "print('False Positive Rate with variational inference on the Testing set :', fpr_vi)\n",
        "print('True Positive Rate with variational inference on the Testing set :', tpr_vi)"
      ],
      "execution_count": 124,
      "outputs": [
        {
          "output_type": "stream",
          "text": [
            "Testing accuracy: 55.062 %\n",
            "Testing loglikelyhood = -54499832.0\n",
            "False Positive Rate with variational inference on the Testing set : 0.47574487947455574\n",
            "True Positive Rate with variational inference on the Testing set : 0.7029643677013674\n"
          ],
          "name": "stdout"
        }
      ]
    },
    {
      "cell_type": "code",
      "metadata": {
        "id": "wnVlZq6zYJIv",
        "colab_type": "code",
        "colab": {
          "base_uri": "https://localhost:8080/",
          "height": 279
        },
        "outputId": "540b042b-c677-4d23-9c75-acc78e4e85fa"
      },
      "source": [
        "columns = ['True label','Predicted label']\n",
        "\n",
        "results_pd = pd.concat([pd.DataFrame(y_test),pd.DataFrame(y_pred_vi_discrete)],axis=1)\n",
        "results_pd.columns = columns\n",
        "\n",
        "confusion_matrix = pd.crosstab(results_pd['True label'], results_pd['Predicted label'], rownames=['True label'], colnames=['Predicted label with threshold = 0.5']).astype('float') \n",
        "confusion_matrix = confusion_matrix/ confusion_matrix.sum(axis=1)[:, np.newaxis]\n",
        "sns.heatmap(confusion_matrix, annot=True, fmt='.2f')\n",
        "plt.show()"
      ],
      "execution_count": 125,
      "outputs": [
        {
          "output_type": "display_data",
          "data": {
            "image/png": "[encoded data removed]",
            "text/plain": [
              "<Figure size 432x288 with 2 Axes>"
            ]
          },
          "metadata": {
            "tags": [],
            "needs_background": "light"
          }
        }
      ]
    },
    {
      "cell_type": "markdown",
      "metadata": {
        "id": "Tia8pPhjbvYL",
        "colab_type": "text"
      },
      "source": [
        "\n",
        "\n",
        "> Learning rate = 1e-11, optimizer = SGD, number of iteration = 1500, batch_size = 128\n",
        "\n"
      ]
    },
    {
      "cell_type": "code",
      "metadata": {
        "id": "GbYR3DJobwE1",
        "colab_type": "code",
        "colab": {}
      },
      "source": [
        "y_pred_vi_discrete = discrete(0.5, y_pred_vi)\n",
        "np.save('y_pred_SGD_11', y_pred_vi_discrete)"
      ],
      "execution_count": 0,
      "outputs": []
    },
    {
      "cell_type": "code",
      "metadata": {
        "id": "n_9hgpodb1yH",
        "colab_type": "code",
        "colab": {
          "base_uri": "https://localhost:8080/",
          "height": 86
        },
        "outputId": "80ada28d-0970-4841-f123-8c718dc338a3"
      },
      "source": [
        "accuracy_vi = accuracy_score(y_test, y_pred_vi_discrete)*100\n",
        "print('Testing accuracy:', accuracy_01_10000, '%')\n",
        "\n",
        "Bernouilli_vi = Bernoulli_torch()\n",
        "log_likelihood_vi=0\n",
        "for i in range(10):\n",
        "    log_likelihood_vi = log_likelihood_vi + (1/1000)*(len(X_test[i*10000:(i+1)*10000])/(128))\\\n",
        "                        *torch.sum(Bernouilli_vi.logdensity(y_test[i*10000:(i+1)*10000],\n",
        "                                                   predictions_vi[i*10000:(i+1)*10000]))\n",
        "   \n",
        "print('Testing loglikelyhood = {}'.format(log_likelihood_vi.detach().numpy()))\n",
        "\n",
        "fpr, tpr, _ = roc_curve(y_test, y_pred_08_10000_discrete)\n",
        "fpr_vi = fpr[1]\n",
        "tpr_vi = tpr[1]\n",
        "print('False Positive Rate with variational inference on the Testing set :', fpr_vi)\n",
        "print('True Positive Rate with variational inference on the Testing set :', tpr_vi)"
      ],
      "execution_count": 154,
      "outputs": [
        {
          "output_type": "stream",
          "text": [
            "Testing accuracy: 55.062 %\n",
            "Testing loglikelyhood = -54499832.0\n",
            "False Positive Rate with variational inference on the Testing set : 0.47574487947455574\n",
            "True Positive Rate with variational inference on the Testing set : 0.7029643677013674\n"
          ],
          "name": "stdout"
        }
      ]
    },
    {
      "cell_type": "code",
      "metadata": {
        "id": "qRCiTJ5db3DI",
        "colab_type": "code",
        "colab": {
          "base_uri": "https://localhost:8080/",
          "height": 279
        },
        "outputId": "443b13a0-752f-4fbf-c8a6-4df796136fb5"
      },
      "source": [
        "columns = ['True label','Predicted label']\n",
        "\n",
        "results_pd = pd.concat([pd.DataFrame(y_test),pd.DataFrame(y_pred_vi_discrete)],axis=1)\n",
        "results_pd.columns = columns\n",
        "\n",
        "confusion_matrix = pd.crosstab(results_pd['True label'], results_pd['Predicted label'], rownames=['True label'], colnames=['Predicted label with threshold = 0.5']).astype('float') \n",
        "confusion_matrix = confusion_matrix/ confusion_matrix.sum(axis=1)[:, np.newaxis]\n",
        "sns.heatmap(confusion_matrix, annot=True, fmt='.2f')\n",
        "plt.show()"
      ],
      "execution_count": 150,
      "outputs": [
        {
          "output_type": "display_data",
          "data": {
            "image/png": "[encoded data removed]",
            "text/plain": [
              "<Figure size 432x288 with 2 Axes>"
            ]
          },
          "metadata": {
            "tags": [],
            "needs_background": "light"
          }
        }
      ]
    },
    {
      "cell_type": "markdown",
      "metadata": {
        "id": "vbtNR75GbAM1",
        "colab_type": "text"
      },
      "source": [
        "\n",
        "\n",
        "> Learning rate = 1e-5, optimizer = Adam, number of iteration = 1500 \n",
        "\n"
      ]
    },
    {
      "cell_type": "code",
      "metadata": {
        "id": "c9e0d-hybP1D",
        "colab_type": "code",
        "colab": {}
      },
      "source": [
        "np.save('y_pred_Adam_5.npy', y_pred_vi)"
      ],
      "execution_count": 0,
      "outputs": []
    },
    {
      "cell_type": "code",
      "metadata": {
        "id": "LNpQ7dDcbHPW",
        "colab_type": "code",
        "colab": {}
      },
      "source": [
        "y_pred_discrete = discrete(0.5, y_pred_vi)"
      ],
      "execution_count": 0,
      "outputs": []
    },
    {
      "cell_type": "code",
      "metadata": {
        "id": "F7j-LryObL_5",
        "colab_type": "code",
        "colab": {
          "base_uri": "https://localhost:8080/",
          "height": 86
        },
        "outputId": "268a2c89-ee05-4b22-b181-c00210c7dca8"
      },
      "source": [
        "accuracy_vi = accuracy_score(y_test, y_pred_vi_discrete)*100\n",
        "print('Testing accuracy:', accuracy_01_10000, '%')\n",
        "\n",
        "Bernouilli_vi = Bernoulli_torch()\n",
        "log_likelihood_vi=0\n",
        "for i in range(10):\n",
        "    log_likelihood_vi = log_likelihood_vi + (1/1000)*(len(X_test[i*10000:(i+1)*10000])/(128))\\\n",
        "                        *torch.sum(Bernouilli_vi.logdensity(y_test[i*10000:(i+1)*10000],\n",
        "                                                   predictions_vi[i*10000:(i+1)*10000]))\n",
        "   \n",
        "print('Testing loglikelyhood = {}'.format(log_likelihood_vi.detach().numpy()))\n",
        "\n",
        "fpr, tpr, _ = roc_curve(y_test, y_pred_08_10000_discrete)\n",
        "fpr_vi = fpr[1]\n",
        "tpr_vi = tpr[1]\n",
        "print('False Positive Rate with variational inference on the Testing set :', fpr_vi)\n",
        "print('True Positive Rate with variational inference on the Testing set :', tpr_vi)"
      ],
      "execution_count": 142,
      "outputs": [
        {
          "output_type": "stream",
          "text": [
            "Testing accuracy: 55.062 %\n",
            "Testing loglikelyhood = -54499832.0\n",
            "False Positive Rate with variational inference on the Testing set : 0.47574487947455574\n",
            "True Positive Rate with variational inference on the Testing set : 0.7029643677013674\n"
          ],
          "name": "stdout"
        }
      ]
    },
    {
      "cell_type": "code",
      "metadata": {
        "id": "5hJMTxBNbfMp",
        "colab_type": "code",
        "colab": {
          "base_uri": "https://localhost:8080/",
          "height": 279
        },
        "outputId": "8c0d97d3-8f5c-4813-8f45-b744fa9aa86c"
      },
      "source": [
        "columns = ['True label','Predicted label']\n",
        "\n",
        "results_pd = pd.concat([pd.DataFrame(y_test),pd.DataFrame(y_pred_vi_discrete)],axis=1)\n",
        "results_pd.columns = columns\n",
        "\n",
        "confusion_matrix = pd.crosstab(results_pd['True label'], results_pd['Predicted label'], rownames=['True label'], colnames=['Predicted label with threshold = 0.5']).astype('float') \n",
        "confusion_matrix = confusion_matrix/ confusion_matrix.sum(axis=1)[:, np.newaxis]\n",
        "sns.heatmap(confusion_matrix, annot=True, fmt='.2f')\n",
        "plt.show()"
      ],
      "execution_count": 143,
      "outputs": [
        {
          "output_type": "display_data",
          "data": {
            "image/png": "[encoded data removed]",
            "text/plain": [
              "<Figure size 432x288 with 2 Axes>"
            ]
          },
          "metadata": {
            "tags": [],
            "needs_background": "light"
          }
        }
      ]
    },
    {
      "cell_type": "markdown",
      "metadata": {
        "id": "R4yZKPVTluxc",
        "colab_type": "text"
      },
      "source": [
        "## Question d"
      ]
    },
    {
      "cell_type": "markdown",
      "metadata": {
        "id": "GOLtjTpUlxPD",
        "colab_type": "text"
      },
      "source": [
        "*d) (text) Comment on the tuning of the Metropolis-Hastings algorithm, and how to guarantee that samples are representative of samples of the posterior over model parameters.* [5]"
      ]
    },
    {
      "cell_type": "markdown",
      "metadata": {
        "id": "l2k_Q_h3mJ-S",
        "colab_type": "text"
      },
      "source": [
        "There are two major parameters to tune for the Metropolis-Hastings algorithm: the **number of steps**, and the **step proposal**. Here is a recap of the results we obtained with different sets of parameters for the question 2 c. \n"
      ]
    },
    {
      "cell_type": "code",
      "metadata": {
        "id": "piFHsAXBHxme",
        "colab_type": "code",
        "colab": {
          "base_uri": "https://localhost:8080/",
          "height": 143
        },
        "outputId": "413d85dd-520f-40e8-a783-ba639b5f952d"
      },
      "source": [
        "data = [[log_likelihood_01_1000, accuracy_01_1000, fpr_01_1000, tpr_01_1000],\n",
        "        [log_likelihood_01_10000, accuracy_01_10000, fpr_01_10000, tpr_0_10000],\n",
        "        [log_likelihood_08_10000, accuracy_08_10000, fpr_08_10000, tpr_08_10000]]\n",
        "results = pd.DataFrame(data, columns=['LogLikelihood', 'Accuracy', 'False Positive Rate', 'True Positive Rate'], index=['Number of steps = 1 000, Step proposal = 0.1', 'Number of steps = 10 000, Step proposal = 0.1', 'Number of steps = 10 000, Step proposal = 0.8'])\n",
        "results"
      ],
      "execution_count": 92,
      "outputs": [
        {
          "output_type": "execute_result",
          "data": {
            "text/html": [
              "<div>\n",
              "<style scoped>\n",
              "    .dataframe tbody tr th:only-of-type {\n",
              "        vertical-align: middle;\n",
              "    }\n",
              "\n",
              "    .dataframe tbody tr th {\n",
              "        vertical-align: top;\n",
              "    }\n",
              "\n",
              "    .dataframe thead th {\n",
              "        text-align: right;\n",
              "    }\n",
              "</style>\n",
              "<table border=\"1\" class=\"dataframe\">\n",
              "  <thead>\n",
              "    <tr style=\"text-align: right;\">\n",
              "      <th></th>\n",
              "      <th>LogLikelihood</th>\n",
              "      <th>Accuracy</th>\n",
              "      <th>False Positive Rate</th>\n",
              "      <th>True Positive Rate</th>\n",
              "    </tr>\n",
              "  </thead>\n",
              "  <tbody>\n",
              "    <tr>\n",
              "      <th>Number of steps = 1 000, Step proposal = 0.1</th>\n",
              "      <td>-1.037107e+06</td>\n",
              "      <td>54.959</td>\n",
              "      <td>0.472400</td>\n",
              "      <td>0.747081</td>\n",
              "    </tr>\n",
              "    <tr>\n",
              "      <th>Number of steps = 10 000, Step proposal = 0.1</th>\n",
              "      <td>-1.034736e+06</td>\n",
              "      <td>55.062</td>\n",
              "      <td>0.471066</td>\n",
              "      <td>0.745384</td>\n",
              "    </tr>\n",
              "    <tr>\n",
              "      <th>Number of steps = 10 000, Step proposal = 0.8</th>\n",
              "      <td>-1.054216e+06</td>\n",
              "      <td>54.216</td>\n",
              "      <td>0.475745</td>\n",
              "      <td>0.702964</td>\n",
              "    </tr>\n",
              "  </tbody>\n",
              "</table>\n",
              "</div>"
            ],
            "text/plain": [
              "                                               LogLikelihood  ...  True Positive Rate\n",
              "Number of steps = 1 000, Step proposal = 0.1   -1.037107e+06  ...            0.747081\n",
              "Number of steps = 10 000, Step proposal = 0.1  -1.034736e+06  ...            0.745384\n",
              "Number of steps = 10 000, Step proposal = 0.8  -1.054216e+06  ...            0.702964\n",
              "\n",
              "[3 rows x 4 columns]"
            ]
          },
          "metadata": {
            "tags": []
          },
          "execution_count": 92
        }
      ]
    },
    {
      "cell_type": "markdown",
      "metadata": {
        "id": "iW1PoHnCLAEC",
        "colab_type": "text"
      },
      "source": [
        "Testing different sets of parameters allows to conclude that: \n",
        "\n",
        "- Number of steps: the more the number of steps is high, the more the likelihood descreases. In fact, it allows the algorithm to get nearest to the solution, it is more precise. Thus, we need to **maximize the number of steps**. \n",
        "- Step proposal: the smaller the step proposal is, the higher the accuracy is. However, as said before, the accuracy is not a relevant measure. The True Positive Rate shows also that is is better to have a small step proposal (TPR of 74% with a step proposal of 0.1 compared to 70% with a step proposal of 0.8). Thus, we need to **minimize the step proposal**.\n",
        "\n",
        "However, even if this time the algorithm predicts 1 compared to the Bayesian Linear Regression, the accuracy stays low, and is not a lot better than a random gest.  "
      ]
    },
    {
      "cell_type": "markdown",
      "metadata": {
        "id": "odSuHyXuf2GK",
        "colab_type": "text"
      },
      "source": [
        "### Question e"
      ]
    },
    {
      "cell_type": "markdown",
      "metadata": {
        "id": "j8C6SMRWUJqv",
        "colab_type": "text"
      },
      "source": [
        "*e) (text) Comment on the tuning of the variational inference algorithm, and discuss the behavior of the optimization with respect to the choice of the optimizer/step-size.* [5]"
      ]
    },
    {
      "cell_type": "markdown",
      "metadata": {
        "id": "rJQpK9rMciLg",
        "colab_type": "text"
      },
      "source": [
        "There are two major parameters to tune for the variational inference algorithm: the **optimizer**, and the **step size**. Here is a recap of the results we obtained with different sets of parameters for the question 2 c. "
      ]
    },
    {
      "cell_type": "code",
      "metadata": {
        "id": "VdipXzK0dOdQ",
        "colab_type": "code",
        "colab": {}
      },
      "source": [
        "Testing accuracy: 55.062 %\n",
        "Testing loglikelyhood = -54499832.0\n",
        "False Positive Rate with variational inference on the Testing set : 0.47574487947455574\n",
        "True Positive Rate with variational inference on the Testing set : 0.7029643677013674\n"
      ],
      "execution_count": 0,
      "outputs": []
    },
    {
      "cell_type": "code",
      "metadata": {
        "id": "y2PmYk4xHxk2",
        "colab_type": "code",
        "colab": {
          "base_uri": "https://localhost:8080/",
          "height": 175
        },
        "outputId": "8f16aee7-fc02-4848-dee8-0ead12bd165b"
      },
      "source": [
        "data = [['-', '-', '-', '-'],\n",
        "        ['-54499832.0', '55.062 %', '0.475744879', '0.70296437'],\n",
        "        ['-54499832.0', '55.062 %', '0.475744879', '0.70296437'], \n",
        "        ['-54499832.0', '55.062 %', '0.475744879', '0.70296437']]\n",
        "results = pd.DataFrame(data, columns=['LogLikelihood', 'Accuracy', 'False Positive Rate', 'True Positive Rate'], index=['Optimizer = SDG, learning rate = 1e-2', 'Optimizer = SDG, learning rate = 1e-9', 'Optimizer = SDG, learning rate = 1e-11', 'Optimizer = Adam, learning rate = 1e-5'])\n",
        "results"
      ],
      "execution_count": 151,
      "outputs": [
        {
          "output_type": "execute_result",
          "data": {
            "text/html": [
              "<div>\n",
              "<style scoped>\n",
              "    .dataframe tbody tr th:only-of-type {\n",
              "        vertical-align: middle;\n",
              "    }\n",
              "\n",
              "    .dataframe tbody tr th {\n",
              "        vertical-align: top;\n",
              "    }\n",
              "\n",
              "    .dataframe thead th {\n",
              "        text-align: right;\n",
              "    }\n",
              "</style>\n",
              "<table border=\"1\" class=\"dataframe\">\n",
              "  <thead>\n",
              "    <tr style=\"text-align: right;\">\n",
              "      <th></th>\n",
              "      <th>LogLikelihood</th>\n",
              "      <th>Accuracy</th>\n",
              "      <th>False Positive Rate</th>\n",
              "      <th>True Positive Rate</th>\n",
              "    </tr>\n",
              "  </thead>\n",
              "  <tbody>\n",
              "    <tr>\n",
              "      <th>Optimizer = SDG, learning rate = 1e-2</th>\n",
              "      <td>-</td>\n",
              "      <td>-</td>\n",
              "      <td>-</td>\n",
              "      <td>-</td>\n",
              "    </tr>\n",
              "    <tr>\n",
              "      <th>Optimizer = SDG, learning rate = 1e-9</th>\n",
              "      <td>-54499832.0</td>\n",
              "      <td>55.062 %</td>\n",
              "      <td>0.475744879</td>\n",
              "      <td>0.70296437</td>\n",
              "    </tr>\n",
              "    <tr>\n",
              "      <th>Optimizer = SDG, learning rate = 1e-11</th>\n",
              "      <td>-54499832.0</td>\n",
              "      <td>55.062 %</td>\n",
              "      <td>0.475744879</td>\n",
              "      <td>0.70296437</td>\n",
              "    </tr>\n",
              "    <tr>\n",
              "      <th>Optimizer = Adam, learning rate = 1e-5</th>\n",
              "      <td>-54499832.0</td>\n",
              "      <td>55.062 %</td>\n",
              "      <td>0.475744879</td>\n",
              "      <td>0.70296437</td>\n",
              "    </tr>\n",
              "  </tbody>\n",
              "</table>\n",
              "</div>"
            ],
            "text/plain": [
              "                                       LogLikelihood  ... True Positive Rate\n",
              "Optimizer = SDG, learning rate = 1e-2              -  ...                  -\n",
              "Optimizer = SDG, learning rate = 1e-9    -54499832.0  ...         0.70296437\n",
              "Optimizer = SDG, learning rate = 1e-11   -54499832.0  ...         0.70296437\n",
              "Optimizer = Adam, learning rate = 1e-5   -54499832.0  ...         0.70296437\n",
              "\n",
              "[4 rows x 4 columns]"
            ]
          },
          "metadata": {
            "tags": []
          },
          "execution_count": 151
        }
      ]
    },
    {
      "cell_type": "markdown",
      "metadata": {
        "id": "MBXaMaHVd1Sy",
        "colab_type": "text"
      },
      "source": [
        "We can tell thanks to our parameters tuning that the algorithm converges for a specific learning rate, which depends on the optimizer. For Stochastic Gradient Descent, the learning rate has to be smaller that 1e-8, and smaller than 1e-3 for Adam.  \n",
        "\n",
        "However, the results are quite strange as the measures repertorated in the table above are always the same. But the predictions are actually not the same as the confusion matrices computed in the question 2 c are different. \n",
        "\n",
        "Moreover, the algorithm doesn't really seem to converge, the plot in the question 2 c it is noisy and does not seem converge toward a specific value. But how to cope with this issue stays a unknown despite a lot of tries and work on this part of the problem..."
      ]
    },
    {
      "cell_type": "markdown",
      "metadata": {
        "id": "SKpFFCOHf4J-",
        "colab_type": "text"
      },
      "source": [
        "### Question f"
      ]
    },
    {
      "cell_type": "markdown",
      "metadata": {
        "id": "aejWF-a8fzI9",
        "colab_type": "text"
      },
      "source": [
        "*f) (text) Report the error metrics implemented in (b) and the confusion matrix on the test data. Discuss logistic regression performance with respect to the performance of Bayesian linear regression.* [5]\n"
      ]
    },
    {
      "cell_type": "markdown",
      "metadata": {
        "id": "bPPp--FrgAlS",
        "colab_type": "text"
      },
      "source": [
        "All the plots and measures are available in the part 2 c (for MCMC and variational inference). \n",
        "\n",
        "The major change between Bayesian linear regression and logistic regression is that **logistic regression is able to predict 1**, even if the class is not represented a lot among the dataset. However, the price to pay is a decrease of the accuracy (Bayesian linear regression doesn't take any risk in predicting the dominant class). \n",
        "\n",
        "Concerning the two logistic regression algorithms, it seems that MCMC approach works better as the confusion matrix has a strong diagonal (75% of class 1 is well predicted). \n",
        "\n",
        "A last remark: **all depends on the application**. If class 1 represents the detection of an anomaly transaction in a bank account, the best thing is to be sure it will be detected. Thus, we prefer to predict that there is an anomaly even if there is not, than to not predict no anomaly if there is one. In this case, Bayesian linear regression is not adapted. "
      ]
    },
    {
      "cell_type": "markdown",
      "metadata": {
        "id": "rBf3DA5ugOfT",
        "colab_type": "text"
      },
      "source": [
        "### Question g"
      ]
    },
    {
      "cell_type": "markdown",
      "metadata": {
        "id": "UKddF8--i21m",
        "colab_type": "text"
      },
      "source": [
        "*g) (text) Compare the uncertainties on predictions obtained by the Metropolis-Hastings algorithm and variational inference. First, compare the log-likelihood on test data as a global metric to assess which inference method yields better uncertainty quantification.\n",
        "Second, pick a few test points for which the mean of the predictive distribution is (a) around 0.5 (b) giving a correct prediction (c) giving a wrong prediction, and visualize/discuss what the predictive distribution looks like. Discuss the difference between the Metropolis-Hastings algorithm and variational inference.* [15]"
      ]
    },
    {
      "cell_type": "markdown",
      "metadata": {
        "id": "CRh0K_13jSs0",
        "colab_type": "text"
      },
      "source": [
        "We obtained best loglikelihood with Metropolis-Hastings algorithm than with variational inference. "
      ]
    },
    {
      "cell_type": "code",
      "metadata": {
        "id": "MGpfx3TBICs3",
        "colab_type": "code",
        "colab": {}
      },
      "source": [
        "y_pred_MCMC = np.load('/content/drive/My Drive/asi/y_pred_01_10000.npy', allow_pickle=True)\n",
        "y_pred_vi = np.load('/content/drive/My Drive/asi/y_pred_SGD_11.npy', allow_pickle=True)"
      ],
      "execution_count": 0,
      "outputs": []
    },
    {
      "cell_type": "code",
      "metadata": {
        "id": "1ELIeqHvkW3o",
        "colab_type": "code",
        "colab": {}
      },
      "source": [
        "y_pred_MCMC_discrete = discrete(0.5, y_pred_MCMC)\n",
        "y_pred_vi_discrete = discrete(0.5, y_pred_vi)"
      ],
      "execution_count": 0,
      "outputs": []
    },
    {
      "cell_type": "code",
      "metadata": {
        "id": "pq2-uoIxk4kw",
        "colab_type": "code",
        "colab": {}
      },
      "source": [
        "y_diff_MCMC = np.absolute(y_pred_MCMC_discrete - y_test)\n",
        "y_diff_vi = np.absolute(y_pred_vi_discrete - y_test)"
      ],
      "execution_count": 0,
      "outputs": []
    },
    {
      "cell_type": "code",
      "metadata": {
        "id": "G8G5GhzTmWyx",
        "colab_type": "code",
        "colab": {}
      },
      "source": [
        "def count(target, y):\n",
        "  compt = 0\n",
        "  for i in range(len(y)):\n",
        "    if y[i] == target:\n",
        "      compt += 1\n",
        "  return compt"
      ],
      "execution_count": 0,
      "outputs": []
    },
    {
      "cell_type": "code",
      "metadata": {
        "id": "Y2M5kuMVkmBE",
        "colab_type": "code",
        "colab": {}
      },
      "source": [
        "uncertain_points_MCMC = len(np.intersect1d(np.where(y_pred_MCMC>0.3), np.where(y_pred_MCMC<0.7)))\n",
        "correct_points_MCMC = count(0, y_diff_MCMC)\n",
        "wrong_points_MCMC = count(1, y_diff_MCMC)\n",
        "\n",
        "uncertain_points_vi = len(np.intersect1d(np.where(y_pred_vi>0.3), np.where(y_pred_vi<0.7)))\n",
        "correct_points_vi = count(0, y_diff_vi)\n",
        "wrong_points_vi = count(1, y_diff_vi)"
      ],
      "execution_count": 0,
      "outputs": []
    },
    {
      "cell_type": "markdown",
      "metadata": {
        "id": "yl-oEWeDpGY2",
        "colab_type": "text"
      },
      "source": [
        "Here is the plot asked."
      ]
    },
    {
      "cell_type": "code",
      "metadata": {
        "id": "sWgYnF6QlQZS",
        "colab_type": "code",
        "colab": {
          "base_uri": "https://localhost:8080/",
          "height": 449
        },
        "outputId": "786f77e1-d806-4b16-937b-c3b348a47458"
      },
      "source": [
        "# Create bars\n",
        "\n",
        "plt.figure(figsize=(15,7))\n",
        "barWidth = 0.9\n",
        "\n",
        "bars1 = [uncertain_points_MCMC, uncertain_points_vi, 0]\n",
        "bars2 = [correct_points_MCMC, correct_points_vi, 0]\n",
        "bars3 = [wrong_points_MCMC, wrong_points_vi, 0]\n",
        "bars4 = bars1 + bars2 + bars3\n",
        " \n",
        "# The X position of bars\n",
        "r1 = [1,2,3]\n",
        "r2 = [4,5,6]\n",
        "r3 = [7,8,9]\n",
        "r4 = r1 + r2 + r3\n",
        " \n",
        "# Create barplot\n",
        "plt.bar(r1, bars1, width = barWidth, color = 'lavender', label='Uncertain points', edgecolor = 'black')\n",
        "plt.bar(r2, bars2, width = barWidth, color = (0.3,0.1,0.4,0.6), label='Correct points', edgecolor = 'black')\n",
        "plt.bar(r3, bars3, width = barWidth, color = (0.3,0.5,0.4,0.6), label='Wrong points', edgecolor = 'black')\n",
        " \n",
        "# Create legend\n",
        "plt.legend()\n",
        " \n",
        "# Text below each barplot with a rotation at 90°\n",
        "plt.xticks([r + barWidth for r in range(len(r4))], ['MCMC', 'vi', '', 'MCMC', 'vi', '', 'MCMC', 'vi', ''], rotation=90)\n",
        " \n",
        "# Create labels\n",
        "label = [bars1[0], bars1[1], '', bars2[0], bars2[1], '', bars3[0], bars3[1]]\n",
        " \n",
        "# Text on the top of each barplot\n",
        "for i in range(len(r4)-1):\n",
        "    plt.text(x = r4[i]-0.2 , y = bars4[i]+300, s = label[i], size = 10)\n",
        " \n",
        "# Adjust the margins\n",
        "#plt.subplots_adjust(bottom= 0.2, top = 0.98)\n",
        "plt.show()"
      ],
      "execution_count": 191,
      "outputs": [
        {
          "output_type": "display_data",
          "data": {
            "image/png": "[encoded data removed]",
            "text/plain": [
              "<Figure size 1080x504 with 1 Axes>"
            ]
          },
          "metadata": {
            "tags": [],
            "needs_background": "light"
          }
        }
      ]
    },
    {
      "cell_type": "markdown",
      "metadata": {
        "id": "CBstXqgTpMgM",
        "colab_type": "text"
      },
      "source": [
        "As discussed earlier, MCMC seems to perform well as it computes more correct points (and thus less incorrect points). However, we can also see that MCMC is very uncertain for a lot of samples (almost a half), which can also be an issue if we want our algorithm to sure about its results (all depends on the applicaiton). "
      ]
    }
  ]
}